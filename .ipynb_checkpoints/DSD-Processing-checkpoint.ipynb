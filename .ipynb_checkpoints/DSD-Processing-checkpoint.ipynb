{
 "cells": [
  {
   "cell_type": "code",
   "execution_count": 1,
   "metadata": {},
   "outputs": [],
   "source": [
    "import os\n",
    "from glob import glob\n",
    "\n",
    "from pytmatrix import orientation, radar, tmatrix_aux, refractive\n",
    "from pytmatrix.psd import PSDIntegrator\n",
    "from pytmatrix.tmatrix import TMatrix, Scatterer\n",
    "\n",
    "import numpy as np\n",
    "\n",
    "import common\n",
    "import processing"
   ]
  },
  {
   "cell_type": "code",
   "execution_count": 2,
   "metadata": {},
   "outputs": [],
   "source": [
    "def worker(site_name, band, temperature, cant):\n",
    "    \n",
    "    #refractive indices of water at 30C\n",
    "    m_w_30C = {wl_S: complex(8.695, -2.971),\n",
    "               wl_C: complex(8.511, -4.103)}\n",
    "    \n",
    "    # Main T-matrix parameters initialisation\n",
    "    # Radar band in mm.\n",
    "    if band == 'S':\n",
    "        radar_band = tmatrix_aux.wl_S\n",
    "    elif band == 'C':\n",
    "        radar_band = tmatrix_aux.wl_C\n",
    "    # Scatterer class from pytmatrix\n",
    "    # tmatrix_aux.wl_C is the wavelength in mm\n",
    "    # refractive.m_w_10C is a dictionnary containing the refractive index (at 10C) for different wavelength.\n",
    "    if temperature == 0:\n",
    "        scatterer = Scatterer(wavelength=radar_band, m=refractive.m_w_0C[radar_band])\n",
    "    elif temperature == 10:\n",
    "        scatterer = Scatterer(wavelength=radar_band, m=refractive.m_w_10C[radar_band])\n",
    "    elif temperature == 20:\n",
    "        scatterer = Scatterer(wavelength=radar_band, m=refractive.m_w_20C[radar_band])\n",
    "    elif temperature == 30:   \n",
    "        scatterer = Scatterer(wavelength=radar_band, m=m_w_30C[radar_band])\n",
    "    else:\n",
    "        print('temperature unknown')\n",
    "        return None\n",
    "            \n",
    "    scatterer.or_pdf = orientation.gaussian_pdf(cant)\n",
    "    scatterer.orient = orientation.orient_averaged_fixed    \n",
    "    # PSDIntegrator classfrom pytmatrix\n",
    "    scatterer.psd_integrator = PSDIntegrator()    \n",
    "    # Defining the axis ratio of drops.\n",
    "    scatterer.psd_integrator.D_max = 8\n",
    "    scatterer.psd_integrator.geometries = (tmatrix_aux.geom_horiz_back, tmatrix_aux.geom_horiz_forw)\n",
    "    ##### !!!!HERE!!!! ######\n",
    "    scatterer.psd_integrator.axis_ratio_func = common.bzv_model\n",
    "    ##### !!!!HERE!!!! ######\n",
    "    scatterer.psd_integrator.init_scatter_table(scatterer)\n",
    "    \n",
    "    if site_name == 'darwin':\n",
    "        file_list = sorted(glob(\"/g/data/kl02/jss548/PST/disdrometer/Darwin/*.cdf\"))\n",
    "        dbz_array, zdr_array, kdp_array, att_array, time_array, rain_array = processing.darwin_disdro_to_radar_moments(file_list, scatterer)\n",
    "        \n",
    "    elif site_name == 'brisbane':\n",
    "        file_list = sorted(glob('/g/data/kl02/jss548/PST/disdrometer/Brisbane/*.txt'))        \n",
    "        dbz_array, zdr_array, kdp_array, att_array, time_array, rain_array = processing.brisbane_disdro_to_radar_moments(file_list, scatterer)\n",
    "        \n",
    "    elif site_name == 'broadmeadows':\n",
    "        file_list = sorted(glob('/g/data/kl02/jss548/PST/disdrometer/Broadmeadows/*.csv'))\n",
    "        dbz_array, zdr_array, kdp_array, att_array, time_array, rain_array = processing.broadmeadows_disdro_to_radar_moments(file_list, scatterer)\n",
    "        \n",
    "    elif site_name == 'mtview':\n",
    "        file_list = sorted(glob('/g/data/kl02/jss548/PST/disdrometer/MtView/*.csv'))\n",
    "        dbz_array, zdr_array, kdp_array, att_array, time_array, rain_array = processing.mtview_disdro_to_radar_moments(file_list, scatterer)\n",
    "        \n",
    "    else:\n",
    "        print('unknown site')\n",
    "        return None\n",
    "    \n",
    "    #masking\n",
    "    dbz_mask1 = np.logical_or(np.isinf(dbz_array), np.isnan(dbz_array))\n",
    "    dbz_mask2 = np.logical_or(dbz_array<-25, dbz_array>65)\n",
    "    dbz_mask = np.logical_or(dbz_mask1, dbz_mask2)\n",
    "    #apply filters\n",
    "    dbz_array_filt = dbz_array[~dbz_mask]\n",
    "    rain_array_filt = rain_array[~dbz_mask]\n",
    "    zdr_array_filt = zdr_array[~dbz_mask]\n",
    "    kdp_array_filt = kdp_array[~dbz_mask]\n",
    "    att_array_filt = att_array[~dbz_mask]\n",
    "    time_array_filt = time_array[~dbz_mask]\n",
    "    #convert zdr into log space\n",
    "    zdr_db_array_filt = 10*np.log10(zdr_array_filt)\n",
    "    \n",
    "    np.savez(f'pytmatrix_out/{site_name}_radarsim_{band}_{cant}deg_{temperature}C.npz', dbz_array=dbz_array_filt, rain_array=rain_array_filt, zdr_db_array=zdr_db_array_filt, kdp_array=kdp_array_filt, att_array=att_array_filt, time_array = time_array_filt)    \n",
    "    print(f'Finished {site_name}_radarsim_{band}_{cant}deg_{temperature}C')\n",
    "    \n",
    "    return None"
   ]
  },
  {
   "cell_type": "code",
   "execution_count": 3,
   "metadata": {},
   "outputs": [],
   "source": [
    "band_list = ['C', 'S']\n",
    "temperature_list = [0, 10, 20, 30]\n",
    "cant_list = [10]\n",
    "site_list = ['darwin', 'brisbane', 'broadmeadows', 'mtview']\n",
    "\n",
    "\n",
    "for band in band_list:\n",
    "    for temperature in temperature_list:\n",
    "        for cant in cant_list:\n",
    "            for site in site_list:\n",
    "                worker(site, band, temperature, cant)"
   ]
  },
  {
   "cell_type": "code",
   "execution_count": 5,
   "metadata": {},
   "outputs": [
    {
     "name": "stdout",
     "output_type": "stream",
     "text": [
      "processing /g/data/kl02/jss548/PST/disdrometer/Broadmeadows/OTT1_2015.csv\n",
      "processing /g/data/kl02/jss548/PST/disdrometer/Broadmeadows/OTT1_2016.csv\n",
      "processing /g/data/kl02/jss548/PST/disdrometer/Broadmeadows/OTT1_2017.csv\n",
      "running scattering calcs\n"
     ]
    },
    {
     "name": "stderr",
     "output_type": "stream",
     "text": [
      "/home/548/jss548/dev/projects/PST/DSD/common.py:84: RuntimeWarning: invalid value encountered in log10\n",
      "  dbz = 10*np.log10(radar.refl(scatterer))  # in dBZ\n",
      "/home/548/jss548/dev/projects/PST/DSD/common.py:84: RuntimeWarning: divide by zero encountered in log10\n",
      "  dbz = 10*np.log10(radar.refl(scatterer))  # in dBZ\n",
      "/g/data/en0/jss548/miniconda3/envs/radar-dev/lib/python3.8/site-packages/pytmatrix/radar.py:78: RuntimeWarning: invalid value encountered in double_scalars\n",
      "  return radar_xsect(scatterer, True)/radar_xsect(scatterer, False)\n",
      "<ipython-input-2-eac9162e6084>:52: RuntimeWarning: invalid value encountered in less\n",
      "  dbz_mask2 = np.logical_or(dbz_array<-25, dbz_array>65)\n",
      "<ipython-input-2-eac9162e6084>:52: RuntimeWarning: invalid value encountered in greater\n",
      "  dbz_mask2 = np.logical_or(dbz_array<-25, dbz_array>65)\n"
     ]
    },
    {
     "name": "stdout",
     "output_type": "stream",
     "text": [
      "Finished broadmeadows_radarsim_C_10deg_20C\n",
      "processing /g/data/kl02/jss548/PST/disdrometer/MtView/2017_12_MtView.csv\n",
      "processing /g/data/kl02/jss548/PST/disdrometer/MtView/2018_01_MtView.csv\n",
      "processing /g/data/kl02/jss548/PST/disdrometer/MtView/2018_02_MtView.csv\n",
      "processing /g/data/kl02/jss548/PST/disdrometer/MtView/2018_03_MtView.csv\n",
      "processing /g/data/kl02/jss548/PST/disdrometer/MtView/2018_04_MtView.csv\n",
      "processing /g/data/kl02/jss548/PST/disdrometer/MtView/2018_05_MtView.csv\n",
      "processing /g/data/kl02/jss548/PST/disdrometer/MtView/2018_06_MtView.csv\n",
      "processing /g/data/kl02/jss548/PST/disdrometer/MtView/2018_07_MtView.csv\n",
      "processing /g/data/kl02/jss548/PST/disdrometer/MtView/2018_08_MtView.csv\n",
      "processing /g/data/kl02/jss548/PST/disdrometer/MtView/2018_09_MtView.csv\n",
      "processing /g/data/kl02/jss548/PST/disdrometer/MtView/2018_10_MtView.csv\n",
      "processing /g/data/kl02/jss548/PST/disdrometer/MtView/2018_11_MtView.csv\n",
      "processing /g/data/kl02/jss548/PST/disdrometer/MtView/2018_12_MtView.csv\n",
      "processing /g/data/kl02/jss548/PST/disdrometer/MtView/2019_01_MtView.csv\n",
      "processing /g/data/kl02/jss548/PST/disdrometer/MtView/2019_02_MtView.csv\n",
      "processing /g/data/kl02/jss548/PST/disdrometer/MtView/2019_03_MtView.csv\n",
      "processing /g/data/kl02/jss548/PST/disdrometer/MtView/2019_04_MtView.csv\n",
      "processing /g/data/kl02/jss548/PST/disdrometer/MtView/2019_05_MtView.csv\n",
      "processing /g/data/kl02/jss548/PST/disdrometer/MtView/2019_06_MtView.csv\n",
      "processing /g/data/kl02/jss548/PST/disdrometer/MtView/2019_07_MtView.csv\n",
      "processing /g/data/kl02/jss548/PST/disdrometer/MtView/2019_08_MtView.csv\n",
      "processing /g/data/kl02/jss548/PST/disdrometer/MtView/2019_09_MtView.csv\n",
      "running scatteirng calcs\n",
      "Finished mtview_radarsim_C_10deg_20C\n"
     ]
    }
   ],
   "source": [
    "worker('brisbane', 'C', 20, 10)\n"
   ]
  },
  {
   "cell_type": "code",
   "execution_count": null,
   "metadata": {},
   "outputs": [],
   "source": []
  }
 ],
 "metadata": {
  "kernelspec": {
   "display_name": "Python [conda env:radar-dev] *",
   "language": "python",
   "name": "conda-env-radar-dev-py"
  },
  "language_info": {
   "codemirror_mode": {
    "name": "ipython",
    "version": 3
   },
   "file_extension": ".py",
   "mimetype": "text/x-python",
   "name": "python",
   "nbconvert_exporter": "python",
   "pygments_lexer": "ipython3",
   "version": "3.8.2"
  }
 },
 "nbformat": 4,
 "nbformat_minor": 4
}
