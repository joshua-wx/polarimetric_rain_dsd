{
 "cells": [
  {
   "cell_type": "code",
   "execution_count": 4,
   "metadata": {},
   "outputs": [],
   "source": [
    "import os\n",
    "from glob import glob\n",
    "from datetime import datetime\n",
    "\n",
    "import pandas as pd\n",
    "import numpy as np"
   ]
  },
  {
   "cell_type": "code",
   "execution_count": 5,
   "metadata": {},
   "outputs": [],
   "source": [
    "band_list = ['S','C']\n",
    "cant = 10\n",
    "temperature_list = [0,10,20]\n",
    "\n",
    "for band in band_list:\n",
    "    for temperature in temperature_list:\n",
    "        #read csv\n",
    "        data_root = '/g/data/kl02/jss548/PST/disdrometer/jaya_processed_ott_datasets'\n",
    "        data_ffn = f'/{data_root}/Result_MtView_{band}_band_temp_{temperature}.dat'\n",
    "        df = pd.read_csv(data_ffn)\n",
    "        #extract data\n",
    "        dbz_array = np.array(df['Zh'])\n",
    "        rain_array = np.array(df['Rain rate'])\n",
    "        zdr_db_array = np.array(df['Zdr'])\n",
    "        kdp_array = np.array(df['Kdp'])\n",
    "        att_array = np.array(df['AiH'])\n",
    "        #save\n",
    "        np.savez(f'pytmatrix_out/mtview_jaya_{band}_{cant}deg_{temperature}C.npz', dbz_array=dbz_array, rain_array=rain_array, zdr_db_array=zdr_db_array, kdp_array=kdp_array, att_array=att_array)\n"
   ]
  },
  {
   "cell_type": "code",
   "execution_count": 23,
   "metadata": {},
   "outputs": [],
   "source": []
  },
  {
   "cell_type": "code",
   "execution_count": null,
   "metadata": {},
   "outputs": [],
   "source": []
  }
 ],
 "metadata": {
  "kernelspec": {
   "display_name": "Python [conda env:radar-dev] *",
   "language": "python",
   "name": "conda-env-radar-dev-py"
  },
  "language_info": {
   "codemirror_mode": {
    "name": "ipython",
    "version": 3
   },
   "file_extension": ".py",
   "mimetype": "text/x-python",
   "name": "python",
   "nbconvert_exporter": "python",
   "pygments_lexer": "ipython3",
   "version": "3.8.3"
  }
 },
 "nbformat": 4,
 "nbformat_minor": 4
}
