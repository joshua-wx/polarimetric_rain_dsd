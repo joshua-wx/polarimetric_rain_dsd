{
 "cells": [
  {
   "cell_type": "code",
   "execution_count": 8,
   "metadata": {},
   "outputs": [],
   "source": [
    "import os\n",
    "from glob import glob\n",
    "from datetime import datetime\n",
    "\n",
    "from scipy import interpolate\n",
    "from pytmatrix import orientation, radar, tmatrix_aux, refractive\n",
    "from pytmatrix.psd import PSDIntegrator, GammaPSD\n",
    "from pytmatrix.tmatrix import TMatrix, Scatterer\n",
    "from pytmatrix.tmatrix_psd import TMatrixPSD, GammaPSD\n",
    "\n",
    "import numpy as np\n",
    "import pandas as pd\n",
    "import matplotlib.pyplot as pl\n",
    "from sklearn.linear_model import LinearRegression\n",
    "from scipy.optimize import curve_fit\n",
    "from tqdm import tqdm\n",
    "\n",
    "import common"
   ]
  },
  {
   "cell_type": "code",
   "execution_count": 9,
   "metadata": {},
   "outputs": [],
   "source": [
    "file_list = sorted(glob('/g/data/kl02/jss548/PST/disdrometer/MtView/*.csv'))\n"
   ]
  },
  {
   "cell_type": "code",
   "execution_count": 10,
   "metadata": {},
   "outputs": [],
   "source": [
    "def mtview_disdro_to_radar_moments(infile, scatterer):\n",
    "\n",
    "    empty_value = -9.999\n",
    "    mean_diam_drop_class = np.array([0.062, 0.187, 0.312, 0.437, 0.562, 0.687, 0.812, \n",
    "                                  0.937, 1.062, 1.187, 1.375, 1.625, 1.875, 2.125,\n",
    "                                  2.375, 2.75, 3.25, 3.75, 4.25, 4.75, 5.5, 6.5, \n",
    "                                  7.5, 8.5, 9.5, 11, 13, 15, 17, 19, 21.5, 24.5])\n",
    "    \n",
    "    \n",
    "    #init lists\n",
    "    DBZ_list = []\n",
    "    ZDR_list = []\n",
    "    KDP_list = []\n",
    "    ATTEN_list = []\n",
    "    RAIN_list = []\n",
    "    TIME_list = []\n",
    "    \n",
    "    #parse all text files\n",
    "    data_line_len = 50\n",
    "    dsd_dictlist = []\n",
    "\n",
    "    for txt_ffn in file_list:\n",
    "        print('processing', txt_ffn)\n",
    "        #init lists\n",
    "        dt_list = []\n",
    "        nd_list = []\n",
    "        rr_list = []\n",
    "        #find total number of times\n",
    "        num_lines = sum(1 for line in open(txt_ffn,'r'))\n",
    "        #read file\n",
    "        with open(txt_ffn) as f:\n",
    "            #for every line\n",
    "            for count, line in tqdm(enumerate(f), total = num_lines):\n",
    "                if count>0: # skip first line\n",
    "                    #split line\n",
    "                    data_read = line.split(',')\n",
    "                    #only process data string lines\n",
    "                    if len(data_read) >= 1000:\n",
    "                        #append to lists\n",
    "                        try:\n",
    "                            dt_list.append(datetime.strptime(data_read[0],'%Y-%m-%d %H:%M:%S'))\n",
    "                        except:\n",
    "                            dt_list.append(datetime.strptime(data_read[0],'%d/%m/%Y %H:%M'))\n",
    "                        rr_list.append(float(data_read[26]))\n",
    "                        nd_list.append(list(map(float,data_read[29:61]))) #Field N(d) 90\n",
    "                    else:\n",
    "                        #catch short lists\n",
    "                        print('error', data_read)\n",
    "                        break\n",
    "                        \n",
    "    for i, nd in tqdm(enumerate(nd_list), total=len(nd_list)):\n",
    "        #convert list to array\n",
    "        nd_array = np.array(nd)\n",
    "        #replace empty value with zeros\n",
    "        nd_array[nd_array==empty_value] = 0\n",
    "        #skip when no data is present\n",
    "        if np.sum(nd_array) == 0:\n",
    "            continue\n",
    "\n",
    "        #calc radar moments\n",
    "        normal_nd_array = nd_array/np.gradient(mean_diam_drop_class)\n",
    "        dbz, zdr, kdp, atten_spec = common.scatter_off_2dvd_packed(mean_diam_drop_class, normal_nd_array, scatterer)\n",
    "\n",
    "        #append outputs\n",
    "        DBZ_list.append(dbz)\n",
    "        ZDR_list.append(zdr)\n",
    "        KDP_list.append(kdp)\n",
    "        ATTEN_list.append(atten_spec)\n",
    "        RAIN_list.append(rr_list[i])\n",
    "        TIME_list.append(dt_list[i])\n",
    "\n",
    "    return DBZ_list, ZDR_list, KDP_list, ATTEN_list, TIME_list, RAIN_list"
   ]
  },
  {
   "cell_type": "code",
   "execution_count": 11,
   "metadata": {},
   "outputs": [],
   "source": [
    "band = 'C'\n",
    "cant = 10 #wdith of canting angle distribution\n",
    "temperature = 0 #used for refractive calculations\n",
    "\n",
    "# Main T-matrix parameters initialisation\n",
    "# Radar band in mm.\n",
    "if band == 'S':\n",
    "    radar_band = tmatrix_aux.wl_S\n",
    "elif band == 'C':\n",
    "    radar_band = tmatrix_aux.wl_C\n",
    "# Scatterer class from pytmatrix\n",
    "# tmatrix_aux.wl_C is the wavelength in mm\n",
    "# refractive.m_w_10C is a dictionnary containing the refractive index (at 10C) for different wavelength.\n",
    "if temperature == 0:\n",
    "    scatterer = Scatterer(wavelength=radar_band, m=refractive.m_w_0C[radar_band])\n",
    "elif temperature == 10:\n",
    "        scatterer = Scatterer(wavelength=radar_band, m=refractive.m_w_10C[radar_band])\n",
    "elif temperature == 20:\n",
    "        scatterer = Scatterer(wavelength=radar_band, m=refractive.m_w_20C[radar_band])\n",
    "scatterer.or_pdf = orientation.gaussian_pdf(cant)\n",
    "scatterer.orient = orientation.orient_averaged_fixed    \n",
    "\n",
    "# PSDIntegrator classfrom pytmatrix\n",
    "scatterer.psd_integrator = PSDIntegrator()    \n",
    "\n",
    "# Defining the axis ratio of drops.\n",
    "scatterer.psd_integrator.D_max = 8\n",
    "scatterer.psd_integrator.geometries = (tmatrix_aux.geom_horiz_back, tmatrix_aux.geom_horiz_forw)\n",
    "\n",
    "##### !!!!HERE!!!! ######\n",
    "scatterer.psd_integrator.axis_ratio_func = common.bzv_model\n",
    "##### !!!!HERE!!!! ######\n",
    "\n",
    "scatterer.psd_integrator.init_scatter_table(scatterer)"
   ]
  },
  {
   "cell_type": "code",
   "execution_count": null,
   "metadata": {},
   "outputs": [
    {
     "name": "stdout",
     "output_type": "stream",
     "text": [
      "processing /g/data/kl02/jss548/PST/disdrometer/MtView/2017_12_MtView.csv\n"
     ]
    },
    {
     "name": "stderr",
     "output_type": "stream",
     "text": [
      "100%|██████████| 81795/81795 [00:02<00:00, 30876.47it/s]\n"
     ]
    },
    {
     "name": "stdout",
     "output_type": "stream",
     "text": [
      "processing /g/data/kl02/jss548/PST/disdrometer/MtView/2018_01_MtView.csv\n"
     ]
    },
    {
     "name": "stderr",
     "output_type": "stream",
     "text": [
      "100%|██████████| 89281/89281 [00:02<00:00, 31159.10it/s]\n"
     ]
    },
    {
     "name": "stdout",
     "output_type": "stream",
     "text": [
      "processing /g/data/kl02/jss548/PST/disdrometer/MtView/2018_02_MtView.csv\n"
     ]
    },
    {
     "name": "stderr",
     "output_type": "stream",
     "text": [
      "100%|██████████| 80641/80641 [00:02<00:00, 31246.07it/s]\n"
     ]
    },
    {
     "name": "stdout",
     "output_type": "stream",
     "text": [
      "processing /g/data/kl02/jss548/PST/disdrometer/MtView/2018_03_MtView.csv\n"
     ]
    },
    {
     "name": "stderr",
     "output_type": "stream",
     "text": [
      "100%|██████████| 89281/89281 [00:02<00:00, 31272.84it/s]\n"
     ]
    },
    {
     "name": "stdout",
     "output_type": "stream",
     "text": [
      "processing /g/data/kl02/jss548/PST/disdrometer/MtView/2018_04_MtView.csv\n"
     ]
    },
    {
     "name": "stderr",
     "output_type": "stream",
     "text": [
      "100%|██████████| 86401/86401 [00:02<00:00, 32869.39it/s]\n"
     ]
    },
    {
     "name": "stdout",
     "output_type": "stream",
     "text": [
      "processing /g/data/kl02/jss548/PST/disdrometer/MtView/2018_05_MtView.csv\n"
     ]
    },
    {
     "name": "stderr",
     "output_type": "stream",
     "text": [
      "100%|██████████| 89281/89281 [00:02<00:00, 31790.21it/s]\n"
     ]
    },
    {
     "name": "stdout",
     "output_type": "stream",
     "text": [
      "processing /g/data/kl02/jss548/PST/disdrometer/MtView/2018_06_MtView.csv\n"
     ]
    },
    {
     "name": "stderr",
     "output_type": "stream",
     "text": [
      "100%|██████████| 74491/74491 [00:02<00:00, 28866.20it/s]\n"
     ]
    },
    {
     "name": "stdout",
     "output_type": "stream",
     "text": [
      "processing /g/data/kl02/jss548/PST/disdrometer/MtView/2018_07_MtView.csv\n"
     ]
    },
    {
     "name": "stderr",
     "output_type": "stream",
     "text": [
      "100%|██████████| 89281/89281 [00:02<00:00, 31437.40it/s]\n"
     ]
    },
    {
     "name": "stdout",
     "output_type": "stream",
     "text": [
      "processing /g/data/kl02/jss548/PST/disdrometer/MtView/2018_08_MtView.csv\n"
     ]
    },
    {
     "name": "stderr",
     "output_type": "stream",
     "text": [
      "100%|██████████| 89281/89281 [00:02<00:00, 31558.21it/s]\n"
     ]
    },
    {
     "name": "stdout",
     "output_type": "stream",
     "text": [
      "processing /g/data/kl02/jss548/PST/disdrometer/MtView/2018_09_MtView.csv\n"
     ]
    },
    {
     "name": "stderr",
     "output_type": "stream",
     "text": [
      "100%|██████████| 86401/86401 [00:02<00:00, 31531.12it/s]\n"
     ]
    },
    {
     "name": "stdout",
     "output_type": "stream",
     "text": [
      "processing /g/data/kl02/jss548/PST/disdrometer/MtView/2018_10_MtView.csv\n"
     ]
    },
    {
     "name": "stderr",
     "output_type": "stream",
     "text": [
      "100%|██████████| 89281/89281 [00:02<00:00, 31251.17it/s]\n"
     ]
    },
    {
     "name": "stdout",
     "output_type": "stream",
     "text": [
      "processing /g/data/kl02/jss548/PST/disdrometer/MtView/2018_11_MtView.csv\n"
     ]
    },
    {
     "name": "stderr",
     "output_type": "stream",
     "text": [
      "100%|██████████| 83551/83551 [00:02<00:00, 31128.91it/s]\n"
     ]
    },
    {
     "name": "stdout",
     "output_type": "stream",
     "text": [
      "processing /g/data/kl02/jss548/PST/disdrometer/MtView/2018_12_MtView.csv\n"
     ]
    },
    {
     "name": "stderr",
     "output_type": "stream",
     "text": [
      "100%|██████████| 80027/80027 [00:02<00:00, 31481.22it/s]\n"
     ]
    },
    {
     "name": "stdout",
     "output_type": "stream",
     "text": [
      "processing /g/data/kl02/jss548/PST/disdrometer/MtView/2019_01_MtView.csv\n"
     ]
    },
    {
     "name": "stderr",
     "output_type": "stream",
     "text": [
      "100%|██████████| 67857/67857 [00:02<00:00, 32474.03it/s]\n"
     ]
    },
    {
     "name": "stdout",
     "output_type": "stream",
     "text": [
      "processing /g/data/kl02/jss548/PST/disdrometer/MtView/2019_02_MtView.csv\n"
     ]
    },
    {
     "name": "stderr",
     "output_type": "stream",
     "text": [
      "100%|██████████| 80641/80641 [00:02<00:00, 31625.68it/s]\n"
     ]
    },
    {
     "name": "stdout",
     "output_type": "stream",
     "text": [
      "processing /g/data/kl02/jss548/PST/disdrometer/MtView/2019_03_MtView.csv\n"
     ]
    },
    {
     "name": "stderr",
     "output_type": "stream",
     "text": [
      "100%|██████████| 74881/74881 [00:02<00:00, 31287.15it/s]\n"
     ]
    },
    {
     "name": "stdout",
     "output_type": "stream",
     "text": [
      "processing /g/data/kl02/jss548/PST/disdrometer/MtView/2019_04_MtView.csv\n"
     ]
    },
    {
     "name": "stderr",
     "output_type": "stream",
     "text": [
      "100%|██████████| 86401/86401 [00:02<00:00, 31178.98it/s]\n"
     ]
    },
    {
     "name": "stdout",
     "output_type": "stream",
     "text": [
      "processing /g/data/kl02/jss548/PST/disdrometer/MtView/2019_05_MtView.csv\n"
     ]
    },
    {
     "name": "stderr",
     "output_type": "stream",
     "text": [
      "100%|██████████| 89281/89281 [00:02<00:00, 31522.23it/s]\n"
     ]
    },
    {
     "name": "stdout",
     "output_type": "stream",
     "text": [
      "processing /g/data/kl02/jss548/PST/disdrometer/MtView/2019_06_MtView.csv\n"
     ]
    },
    {
     "name": "stderr",
     "output_type": "stream",
     "text": [
      "100%|██████████| 86401/86401 [00:02<00:00, 31557.57it/s]\n"
     ]
    },
    {
     "name": "stdout",
     "output_type": "stream",
     "text": [
      "processing /g/data/kl02/jss548/PST/disdrometer/MtView/2019_07_MtView.csv\n"
     ]
    },
    {
     "name": "stderr",
     "output_type": "stream",
     "text": [
      "100%|██████████| 89281/89281 [00:02<00:00, 31188.75it/s]\n"
     ]
    },
    {
     "name": "stdout",
     "output_type": "stream",
     "text": [
      "processing /g/data/kl02/jss548/PST/disdrometer/MtView/2019_08_MtView.csv\n"
     ]
    },
    {
     "name": "stderr",
     "output_type": "stream",
     "text": [
      "100%|██████████| 89281/89281 [00:02<00:00, 31402.96it/s]\n"
     ]
    },
    {
     "name": "stdout",
     "output_type": "stream",
     "text": [
      "processing /g/data/kl02/jss548/PST/disdrometer/MtView/2019_09_MtView.csv\n"
     ]
    },
    {
     "name": "stderr",
     "output_type": "stream",
     "text": [
      "100%|██████████| 33268/33268 [00:01<00:00, 32262.23it/s]\n",
      "100%|██████████| 33267/33267 [00:02<00:00, 15947.67it/s]\n"
     ]
    },
    {
     "name": "stdout",
     "output_type": "stream",
     "text": [
      "processing /g/data/kl02/jss548/PST/disdrometer/MtView/2017_12_MtView.csv\n"
     ]
    },
    {
     "name": "stderr",
     "output_type": "stream",
     "text": [
      "100%|██████████| 81795/81795 [00:02<00:00, 31709.62it/s]\n"
     ]
    },
    {
     "name": "stdout",
     "output_type": "stream",
     "text": [
      "processing /g/data/kl02/jss548/PST/disdrometer/MtView/2018_01_MtView.csv\n"
     ]
    },
    {
     "name": "stderr",
     "output_type": "stream",
     "text": [
      "100%|██████████| 89281/89281 [00:02<00:00, 31205.17it/s]\n"
     ]
    },
    {
     "name": "stdout",
     "output_type": "stream",
     "text": [
      "processing /g/data/kl02/jss548/PST/disdrometer/MtView/2018_02_MtView.csv\n"
     ]
    },
    {
     "name": "stderr",
     "output_type": "stream",
     "text": [
      "100%|██████████| 80641/80641 [00:02<00:00, 32357.26it/s]\n"
     ]
    },
    {
     "name": "stdout",
     "output_type": "stream",
     "text": [
      "processing /g/data/kl02/jss548/PST/disdrometer/MtView/2018_03_MtView.csv\n"
     ]
    },
    {
     "name": "stderr",
     "output_type": "stream",
     "text": [
      "100%|██████████| 89281/89281 [00:02<00:00, 32305.17it/s]\n"
     ]
    },
    {
     "name": "stdout",
     "output_type": "stream",
     "text": [
      "processing /g/data/kl02/jss548/PST/disdrometer/MtView/2018_04_MtView.csv\n"
     ]
    },
    {
     "name": "stderr",
     "output_type": "stream",
     "text": [
      "100%|██████████| 86401/86401 [00:02<00:00, 32244.08it/s]\n"
     ]
    },
    {
     "name": "stdout",
     "output_type": "stream",
     "text": [
      "processing /g/data/kl02/jss548/PST/disdrometer/MtView/2018_05_MtView.csv\n"
     ]
    },
    {
     "name": "stderr",
     "output_type": "stream",
     "text": [
      "100%|██████████| 89281/89281 [00:02<00:00, 32287.57it/s]\n"
     ]
    },
    {
     "name": "stdout",
     "output_type": "stream",
     "text": [
      "processing /g/data/kl02/jss548/PST/disdrometer/MtView/2018_06_MtView.csv\n"
     ]
    },
    {
     "name": "stderr",
     "output_type": "stream",
     "text": [
      "100%|██████████| 74491/74491 [00:02<00:00, 29232.77it/s]\n"
     ]
    },
    {
     "name": "stdout",
     "output_type": "stream",
     "text": [
      "processing /g/data/kl02/jss548/PST/disdrometer/MtView/2018_07_MtView.csv\n"
     ]
    },
    {
     "name": "stderr",
     "output_type": "stream",
     "text": [
      "100%|██████████| 89281/89281 [00:02<00:00, 31530.79it/s]\n"
     ]
    },
    {
     "name": "stdout",
     "output_type": "stream",
     "text": [
      "processing /g/data/kl02/jss548/PST/disdrometer/MtView/2018_08_MtView.csv\n"
     ]
    },
    {
     "name": "stderr",
     "output_type": "stream",
     "text": [
      "100%|██████████| 89281/89281 [00:02<00:00, 32630.88it/s]\n"
     ]
    },
    {
     "name": "stdout",
     "output_type": "stream",
     "text": [
      "processing /g/data/kl02/jss548/PST/disdrometer/MtView/2018_09_MtView.csv\n"
     ]
    },
    {
     "name": "stderr",
     "output_type": "stream",
     "text": [
      "100%|██████████| 86401/86401 [00:02<00:00, 31944.10it/s]\n"
     ]
    },
    {
     "name": "stdout",
     "output_type": "stream",
     "text": [
      "processing /g/data/kl02/jss548/PST/disdrometer/MtView/2018_10_MtView.csv\n"
     ]
    },
    {
     "name": "stderr",
     "output_type": "stream",
     "text": [
      "100%|██████████| 89281/89281 [00:02<00:00, 32008.30it/s]\n"
     ]
    },
    {
     "name": "stdout",
     "output_type": "stream",
     "text": [
      "processing /g/data/kl02/jss548/PST/disdrometer/MtView/2018_11_MtView.csv\n"
     ]
    },
    {
     "name": "stderr",
     "output_type": "stream",
     "text": [
      "100%|██████████| 83551/83551 [00:02<00:00, 31839.77it/s]\n"
     ]
    },
    {
     "name": "stdout",
     "output_type": "stream",
     "text": [
      "processing /g/data/kl02/jss548/PST/disdrometer/MtView/2018_12_MtView.csv\n"
     ]
    },
    {
     "name": "stderr",
     "output_type": "stream",
     "text": [
      "100%|██████████| 80027/80027 [00:02<00:00, 31982.35it/s]\n",
      "  5%|▍         | 3304/67857 [00:00<00:01, 33036.64it/s]"
     ]
    },
    {
     "name": "stdout",
     "output_type": "stream",
     "text": [
      "processing /g/data/kl02/jss548/PST/disdrometer/MtView/2019_01_MtView.csv\n"
     ]
    },
    {
     "name": "stderr",
     "output_type": "stream",
     "text": [
      "100%|██████████| 67857/67857 [00:02<00:00, 31639.41it/s]\n"
     ]
    },
    {
     "name": "stdout",
     "output_type": "stream",
     "text": [
      "processing /g/data/kl02/jss548/PST/disdrometer/MtView/2019_02_MtView.csv\n"
     ]
    },
    {
     "name": "stderr",
     "output_type": "stream",
     "text": [
      "100%|██████████| 80641/80641 [00:02<00:00, 31638.20it/s]\n"
     ]
    },
    {
     "name": "stdout",
     "output_type": "stream",
     "text": [
      "processing /g/data/kl02/jss548/PST/disdrometer/MtView/2019_03_MtView.csv\n"
     ]
    },
    {
     "name": "stderr",
     "output_type": "stream",
     "text": [
      "100%|██████████| 74881/74881 [00:02<00:00, 31501.47it/s]\n"
     ]
    },
    {
     "name": "stdout",
     "output_type": "stream",
     "text": [
      "processing /g/data/kl02/jss548/PST/disdrometer/MtView/2019_04_MtView.csv\n"
     ]
    },
    {
     "name": "stderr",
     "output_type": "stream",
     "text": [
      "100%|██████████| 86401/86401 [00:02<00:00, 32483.99it/s]\n"
     ]
    },
    {
     "name": "stdout",
     "output_type": "stream",
     "text": [
      "processing /g/data/kl02/jss548/PST/disdrometer/MtView/2019_05_MtView.csv\n"
     ]
    },
    {
     "name": "stderr",
     "output_type": "stream",
     "text": [
      "100%|██████████| 89281/89281 [00:02<00:00, 31609.56it/s]\n"
     ]
    },
    {
     "name": "stdout",
     "output_type": "stream",
     "text": [
      "processing /g/data/kl02/jss548/PST/disdrometer/MtView/2019_06_MtView.csv\n"
     ]
    },
    {
     "name": "stderr",
     "output_type": "stream",
     "text": [
      "100%|██████████| 86401/86401 [00:02<00:00, 31564.60it/s]\n"
     ]
    },
    {
     "name": "stdout",
     "output_type": "stream",
     "text": [
      "processing /g/data/kl02/jss548/PST/disdrometer/MtView/2019_07_MtView.csv\n"
     ]
    },
    {
     "name": "stderr",
     "output_type": "stream",
     "text": [
      "100%|██████████| 89281/89281 [00:02<00:00, 31826.83it/s]\n"
     ]
    },
    {
     "name": "stdout",
     "output_type": "stream",
     "text": [
      "processing /g/data/kl02/jss548/PST/disdrometer/MtView/2019_08_MtView.csv\n"
     ]
    },
    {
     "name": "stderr",
     "output_type": "stream",
     "text": [
      "100%|██████████| 89281/89281 [00:02<00:00, 31760.78it/s]\n",
      " 10%|▉         | 3314/33268 [00:00<00:00, 33136.40it/s]"
     ]
    },
    {
     "name": "stdout",
     "output_type": "stream",
     "text": [
      "processing /g/data/kl02/jss548/PST/disdrometer/MtView/2019_09_MtView.csv\n"
     ]
    },
    {
     "name": "stderr",
     "output_type": "stream",
     "text": [
      "100%|██████████| 33268/33268 [00:01<00:00, 30583.50it/s]\n",
      "100%|██████████| 33267/33267 [00:02<00:00, 15996.77it/s]\n"
     ]
    },
    {
     "name": "stdout",
     "output_type": "stream",
     "text": [
      "processing /g/data/kl02/jss548/PST/disdrometer/MtView/2017_12_MtView.csv\n"
     ]
    },
    {
     "name": "stderr",
     "output_type": "stream",
     "text": [
      "100%|██████████| 81795/81795 [00:02<00:00, 32648.53it/s]\n"
     ]
    },
    {
     "name": "stdout",
     "output_type": "stream",
     "text": [
      "processing /g/data/kl02/jss548/PST/disdrometer/MtView/2018_01_MtView.csv\n"
     ]
    },
    {
     "name": "stderr",
     "output_type": "stream",
     "text": [
      "100%|██████████| 89281/89281 [00:02<00:00, 31966.42it/s]\n"
     ]
    },
    {
     "name": "stdout",
     "output_type": "stream",
     "text": [
      "processing /g/data/kl02/jss548/PST/disdrometer/MtView/2018_02_MtView.csv\n"
     ]
    },
    {
     "name": "stderr",
     "output_type": "stream",
     "text": [
      "100%|██████████| 80641/80641 [00:02<00:00, 32307.71it/s]\n"
     ]
    },
    {
     "name": "stdout",
     "output_type": "stream",
     "text": [
      "processing /g/data/kl02/jss548/PST/disdrometer/MtView/2018_03_MtView.csv\n"
     ]
    },
    {
     "name": "stderr",
     "output_type": "stream",
     "text": [
      "100%|██████████| 89281/89281 [00:02<00:00, 32278.15it/s]\n"
     ]
    },
    {
     "name": "stdout",
     "output_type": "stream",
     "text": [
      "processing /g/data/kl02/jss548/PST/disdrometer/MtView/2018_04_MtView.csv\n"
     ]
    },
    {
     "name": "stderr",
     "output_type": "stream",
     "text": [
      "100%|██████████| 86401/86401 [00:02<00:00, 32171.33it/s]\n"
     ]
    },
    {
     "name": "stdout",
     "output_type": "stream",
     "text": [
      "processing /g/data/kl02/jss548/PST/disdrometer/MtView/2018_05_MtView.csv\n"
     ]
    },
    {
     "name": "stderr",
     "output_type": "stream",
     "text": [
      "100%|██████████| 89281/89281 [00:02<00:00, 32112.60it/s]\n"
     ]
    },
    {
     "name": "stdout",
     "output_type": "stream",
     "text": [
      "processing /g/data/kl02/jss548/PST/disdrometer/MtView/2018_06_MtView.csv\n"
     ]
    },
    {
     "name": "stderr",
     "output_type": "stream",
     "text": [
      "100%|██████████| 74491/74491 [00:02<00:00, 29315.69it/s]\n"
     ]
    },
    {
     "name": "stdout",
     "output_type": "stream",
     "text": [
      "processing /g/data/kl02/jss548/PST/disdrometer/MtView/2018_07_MtView.csv\n"
     ]
    },
    {
     "name": "stderr",
     "output_type": "stream",
     "text": [
      "100%|██████████| 89281/89281 [00:02<00:00, 31618.77it/s]\n"
     ]
    },
    {
     "name": "stdout",
     "output_type": "stream",
     "text": [
      "processing /g/data/kl02/jss548/PST/disdrometer/MtView/2018_08_MtView.csv\n"
     ]
    },
    {
     "name": "stderr",
     "output_type": "stream",
     "text": [
      "100%|██████████| 89281/89281 [00:02<00:00, 31606.70it/s]\n"
     ]
    },
    {
     "name": "stdout",
     "output_type": "stream",
     "text": [
      "processing /g/data/kl02/jss548/PST/disdrometer/MtView/2018_09_MtView.csv\n"
     ]
    },
    {
     "name": "stderr",
     "output_type": "stream",
     "text": [
      "100%|██████████| 86401/86401 [00:02<00:00, 31513.89it/s]\n"
     ]
    },
    {
     "name": "stdout",
     "output_type": "stream",
     "text": [
      "processing /g/data/kl02/jss548/PST/disdrometer/MtView/2018_10_MtView.csv\n"
     ]
    },
    {
     "name": "stderr",
     "output_type": "stream",
     "text": [
      "100%|██████████| 89281/89281 [00:02<00:00, 31518.79it/s]\n"
     ]
    },
    {
     "name": "stdout",
     "output_type": "stream",
     "text": [
      "processing /g/data/kl02/jss548/PST/disdrometer/MtView/2018_11_MtView.csv\n"
     ]
    },
    {
     "name": "stderr",
     "output_type": "stream",
     "text": [
      "100%|██████████| 83551/83551 [00:02<00:00, 31366.93it/s]\n"
     ]
    },
    {
     "name": "stdout",
     "output_type": "stream",
     "text": [
      "processing /g/data/kl02/jss548/PST/disdrometer/MtView/2018_12_MtView.csv\n"
     ]
    },
    {
     "name": "stderr",
     "output_type": "stream",
     "text": [
      "100%|██████████| 80027/80027 [00:02<00:00, 32718.98it/s]\n",
      "  5%|▍         | 3316/67857 [00:00<00:01, 33159.95it/s]"
     ]
    },
    {
     "name": "stdout",
     "output_type": "stream",
     "text": [
      "processing /g/data/kl02/jss548/PST/disdrometer/MtView/2019_01_MtView.csv\n"
     ]
    },
    {
     "name": "stderr",
     "output_type": "stream",
     "text": [
      "100%|██████████| 67857/67857 [00:02<00:00, 31888.82it/s]\n"
     ]
    },
    {
     "name": "stdout",
     "output_type": "stream",
     "text": [
      "processing /g/data/kl02/jss548/PST/disdrometer/MtView/2019_02_MtView.csv\n"
     ]
    },
    {
     "name": "stderr",
     "output_type": "stream",
     "text": [
      "100%|██████████| 80641/80641 [00:02<00:00, 31637.51it/s]\n"
     ]
    },
    {
     "name": "stdout",
     "output_type": "stream",
     "text": [
      "processing /g/data/kl02/jss548/PST/disdrometer/MtView/2019_03_MtView.csv\n"
     ]
    },
    {
     "name": "stderr",
     "output_type": "stream",
     "text": [
      "100%|██████████| 74881/74881 [00:02<00:00, 30956.95it/s]\n"
     ]
    },
    {
     "name": "stdout",
     "output_type": "stream",
     "text": [
      "processing /g/data/kl02/jss548/PST/disdrometer/MtView/2019_04_MtView.csv\n"
     ]
    },
    {
     "name": "stderr",
     "output_type": "stream",
     "text": [
      "100%|██████████| 86401/86401 [00:02<00:00, 31461.86it/s]\n"
     ]
    },
    {
     "name": "stdout",
     "output_type": "stream",
     "text": [
      "processing /g/data/kl02/jss548/PST/disdrometer/MtView/2019_05_MtView.csv\n"
     ]
    },
    {
     "name": "stderr",
     "output_type": "stream",
     "text": [
      "100%|██████████| 89281/89281 [00:02<00:00, 31525.25it/s]\n"
     ]
    },
    {
     "name": "stdout",
     "output_type": "stream",
     "text": [
      "processing /g/data/kl02/jss548/PST/disdrometer/MtView/2019_06_MtView.csv\n"
     ]
    },
    {
     "name": "stderr",
     "output_type": "stream",
     "text": [
      "100%|██████████| 86401/86401 [00:02<00:00, 31486.99it/s]\n"
     ]
    },
    {
     "name": "stdout",
     "output_type": "stream",
     "text": [
      "processing /g/data/kl02/jss548/PST/disdrometer/MtView/2019_07_MtView.csv\n"
     ]
    },
    {
     "name": "stderr",
     "output_type": "stream",
     "text": [
      "100%|██████████| 89281/89281 [00:02<00:00, 31476.04it/s]\n"
     ]
    },
    {
     "name": "stdout",
     "output_type": "stream",
     "text": [
      "processing /g/data/kl02/jss548/PST/disdrometer/MtView/2019_08_MtView.csv\n"
     ]
    },
    {
     "name": "stderr",
     "output_type": "stream",
     "text": [
      "100%|██████████| 89281/89281 [00:02<00:00, 31398.32it/s]\n",
      " 10%|▉         | 3277/33268 [00:00<00:00, 32769.72it/s]"
     ]
    },
    {
     "name": "stdout",
     "output_type": "stream",
     "text": [
      "processing /g/data/kl02/jss548/PST/disdrometer/MtView/2019_09_MtView.csv\n"
     ]
    },
    {
     "name": "stderr",
     "output_type": "stream",
     "text": [
      "100%|██████████| 33268/33268 [00:01<00:00, 32636.95it/s]\n",
      "100%|██████████| 33267/33267 [00:02<00:00, 15992.27it/s]\n"
     ]
    },
    {
     "name": "stdout",
     "output_type": "stream",
     "text": [
      "processing /g/data/kl02/jss548/PST/disdrometer/MtView/2017_12_MtView.csv\n"
     ]
    },
    {
     "name": "stderr",
     "output_type": "stream",
     "text": [
      "100%|██████████| 81795/81795 [00:02<00:00, 31605.56it/s]\n"
     ]
    },
    {
     "name": "stdout",
     "output_type": "stream",
     "text": [
      "processing /g/data/kl02/jss548/PST/disdrometer/MtView/2018_01_MtView.csv\n"
     ]
    },
    {
     "name": "stderr",
     "output_type": "stream",
     "text": [
      "100%|██████████| 89281/89281 [00:02<00:00, 31602.99it/s]\n"
     ]
    },
    {
     "name": "stdout",
     "output_type": "stream",
     "text": [
      "processing /g/data/kl02/jss548/PST/disdrometer/MtView/2018_02_MtView.csv\n"
     ]
    },
    {
     "name": "stderr",
     "output_type": "stream",
     "text": [
      "100%|██████████| 80641/80641 [00:02<00:00, 32100.25it/s]\n"
     ]
    },
    {
     "name": "stdout",
     "output_type": "stream",
     "text": [
      "processing /g/data/kl02/jss548/PST/disdrometer/MtView/2018_03_MtView.csv\n"
     ]
    },
    {
     "name": "stderr",
     "output_type": "stream",
     "text": [
      "100%|██████████| 89281/89281 [00:02<00:00, 32048.71it/s]\n"
     ]
    },
    {
     "name": "stdout",
     "output_type": "stream",
     "text": [
      "processing /g/data/kl02/jss548/PST/disdrometer/MtView/2018_04_MtView.csv\n"
     ]
    },
    {
     "name": "stderr",
     "output_type": "stream",
     "text": [
      "100%|██████████| 86401/86401 [00:02<00:00, 33341.03it/s]\n"
     ]
    },
    {
     "name": "stdout",
     "output_type": "stream",
     "text": [
      "processing /g/data/kl02/jss548/PST/disdrometer/MtView/2018_05_MtView.csv\n"
     ]
    },
    {
     "name": "stderr",
     "output_type": "stream",
     "text": [
      "100%|██████████| 89281/89281 [00:02<00:00, 32693.87it/s]\n"
     ]
    },
    {
     "name": "stdout",
     "output_type": "stream",
     "text": [
      "processing /g/data/kl02/jss548/PST/disdrometer/MtView/2018_06_MtView.csv\n"
     ]
    },
    {
     "name": "stderr",
     "output_type": "stream",
     "text": [
      "100%|██████████| 74491/74491 [00:02<00:00, 29556.17it/s]\n"
     ]
    },
    {
     "name": "stdout",
     "output_type": "stream",
     "text": [
      "processing /g/data/kl02/jss548/PST/disdrometer/MtView/2018_07_MtView.csv\n"
     ]
    },
    {
     "name": "stderr",
     "output_type": "stream",
     "text": [
      "100%|██████████| 89281/89281 [00:02<00:00, 31754.37it/s]\n"
     ]
    },
    {
     "name": "stdout",
     "output_type": "stream",
     "text": [
      "processing /g/data/kl02/jss548/PST/disdrometer/MtView/2018_08_MtView.csv\n"
     ]
    },
    {
     "name": "stderr",
     "output_type": "stream",
     "text": [
      "100%|██████████| 89281/89281 [00:02<00:00, 31583.57it/s]\n"
     ]
    },
    {
     "name": "stdout",
     "output_type": "stream",
     "text": [
      "processing /g/data/kl02/jss548/PST/disdrometer/MtView/2018_09_MtView.csv\n"
     ]
    },
    {
     "name": "stderr",
     "output_type": "stream",
     "text": [
      "100%|██████████| 86401/86401 [00:02<00:00, 31816.33it/s]\n"
     ]
    },
    {
     "name": "stdout",
     "output_type": "stream",
     "text": [
      "processing /g/data/kl02/jss548/PST/disdrometer/MtView/2018_10_MtView.csv\n"
     ]
    },
    {
     "name": "stderr",
     "output_type": "stream",
     "text": [
      "100%|██████████| 89281/89281 [00:02<00:00, 31652.02it/s]\n"
     ]
    },
    {
     "name": "stdout",
     "output_type": "stream",
     "text": [
      "processing /g/data/kl02/jss548/PST/disdrometer/MtView/2018_11_MtView.csv\n"
     ]
    },
    {
     "name": "stderr",
     "output_type": "stream",
     "text": [
      "100%|██████████| 83551/83551 [00:02<00:00, 31313.50it/s]\n"
     ]
    },
    {
     "name": "stdout",
     "output_type": "stream",
     "text": [
      "processing /g/data/kl02/jss548/PST/disdrometer/MtView/2018_12_MtView.csv\n"
     ]
    },
    {
     "name": "stderr",
     "output_type": "stream",
     "text": [
      "100%|██████████| 80027/80027 [00:02<00:00, 31560.19it/s]\n"
     ]
    },
    {
     "name": "stdout",
     "output_type": "stream",
     "text": [
      "processing /g/data/kl02/jss548/PST/disdrometer/MtView/2019_01_MtView.csv\n"
     ]
    },
    {
     "name": "stderr",
     "output_type": "stream",
     "text": [
      "100%|██████████| 67857/67857 [00:02<00:00, 31259.73it/s]\n"
     ]
    },
    {
     "name": "stdout",
     "output_type": "stream",
     "text": [
      "processing /g/data/kl02/jss548/PST/disdrometer/MtView/2019_02_MtView.csv\n"
     ]
    },
    {
     "name": "stderr",
     "output_type": "stream",
     "text": [
      "100%|██████████| 80641/80641 [00:02<00:00, 32687.82it/s]\n"
     ]
    },
    {
     "name": "stdout",
     "output_type": "stream",
     "text": [
      "processing /g/data/kl02/jss548/PST/disdrometer/MtView/2019_03_MtView.csv\n"
     ]
    },
    {
     "name": "stderr",
     "output_type": "stream",
     "text": [
      "100%|██████████| 74881/74881 [00:02<00:00, 31508.31it/s]\n"
     ]
    },
    {
     "name": "stdout",
     "output_type": "stream",
     "text": [
      "processing /g/data/kl02/jss548/PST/disdrometer/MtView/2019_04_MtView.csv\n"
     ]
    },
    {
     "name": "stderr",
     "output_type": "stream",
     "text": [
      "100%|██████████| 86401/86401 [00:02<00:00, 31632.36it/s]\n"
     ]
    },
    {
     "name": "stdout",
     "output_type": "stream",
     "text": [
      "processing /g/data/kl02/jss548/PST/disdrometer/MtView/2019_05_MtView.csv\n"
     ]
    },
    {
     "name": "stderr",
     "output_type": "stream",
     "text": [
      "100%|██████████| 89281/89281 [00:02<00:00, 31649.19it/s]\n"
     ]
    },
    {
     "name": "stdout",
     "output_type": "stream",
     "text": [
      "processing /g/data/kl02/jss548/PST/disdrometer/MtView/2019_06_MtView.csv\n"
     ]
    },
    {
     "name": "stderr",
     "output_type": "stream",
     "text": [
      "100%|██████████| 86401/86401 [00:02<00:00, 31622.16it/s]\n"
     ]
    },
    {
     "name": "stdout",
     "output_type": "stream",
     "text": [
      "processing /g/data/kl02/jss548/PST/disdrometer/MtView/2019_07_MtView.csv\n"
     ]
    },
    {
     "name": "stderr",
     "output_type": "stream",
     "text": [
      "100%|██████████| 89281/89281 [00:02<00:00, 31498.73it/s]\n"
     ]
    },
    {
     "name": "stdout",
     "output_type": "stream",
     "text": [
      "processing /g/data/kl02/jss548/PST/disdrometer/MtView/2019_08_MtView.csv\n"
     ]
    },
    {
     "name": "stderr",
     "output_type": "stream",
     "text": [
      "100%|██████████| 89281/89281 [00:02<00:00, 31481.62it/s]\n",
      " 10%|▉         | 3296/33268 [00:00<00:00, 32953.59it/s]"
     ]
    },
    {
     "name": "stdout",
     "output_type": "stream",
     "text": [
      "processing /g/data/kl02/jss548/PST/disdrometer/MtView/2019_09_MtView.csv\n"
     ]
    },
    {
     "name": "stderr",
     "output_type": "stream",
     "text": [
      "100%|██████████| 33268/33268 [00:01<00:00, 32437.00it/s]\n",
      "100%|██████████| 33267/33267 [00:02<00:00, 16051.15it/s]\n"
     ]
    },
    {
     "name": "stdout",
     "output_type": "stream",
     "text": [
      "processing /g/data/kl02/jss548/PST/disdrometer/MtView/2017_12_MtView.csv\n"
     ]
    },
    {
     "name": "stderr",
     "output_type": "stream",
     "text": [
      "100%|██████████| 81795/81795 [00:02<00:00, 31652.15it/s]\n"
     ]
    },
    {
     "name": "stdout",
     "output_type": "stream",
     "text": [
      "processing /g/data/kl02/jss548/PST/disdrometer/MtView/2018_01_MtView.csv\n"
     ]
    },
    {
     "name": "stderr",
     "output_type": "stream",
     "text": [
      "100%|██████████| 89281/89281 [00:02<00:00, 31225.76it/s]\n"
     ]
    },
    {
     "name": "stdout",
     "output_type": "stream",
     "text": [
      "processing /g/data/kl02/jss548/PST/disdrometer/MtView/2018_02_MtView.csv\n"
     ]
    },
    {
     "name": "stderr",
     "output_type": "stream",
     "text": [
      "100%|██████████| 80641/80641 [00:02<00:00, 32013.75it/s]\n"
     ]
    },
    {
     "name": "stdout",
     "output_type": "stream",
     "text": [
      "processing /g/data/kl02/jss548/PST/disdrometer/MtView/2018_03_MtView.csv\n"
     ]
    },
    {
     "name": "stderr",
     "output_type": "stream",
     "text": [
      "100%|██████████| 89281/89281 [00:02<00:00, 31714.76it/s]\n"
     ]
    },
    {
     "name": "stdout",
     "output_type": "stream",
     "text": [
      "processing /g/data/kl02/jss548/PST/disdrometer/MtView/2018_04_MtView.csv\n"
     ]
    },
    {
     "name": "stderr",
     "output_type": "stream",
     "text": [
      "100%|██████████| 86401/86401 [00:02<00:00, 32251.58it/s]\n"
     ]
    },
    {
     "name": "stdout",
     "output_type": "stream",
     "text": [
      "processing /g/data/kl02/jss548/PST/disdrometer/MtView/2018_05_MtView.csv\n"
     ]
    },
    {
     "name": "stderr",
     "output_type": "stream",
     "text": [
      "100%|██████████| 89281/89281 [00:02<00:00, 32174.66it/s]\n"
     ]
    },
    {
     "name": "stdout",
     "output_type": "stream",
     "text": [
      "processing /g/data/kl02/jss548/PST/disdrometer/MtView/2018_06_MtView.csv\n"
     ]
    },
    {
     "name": "stderr",
     "output_type": "stream",
     "text": [
      "100%|██████████| 74491/74491 [00:02<00:00, 29152.11it/s]\n"
     ]
    },
    {
     "name": "stdout",
     "output_type": "stream",
     "text": [
      "processing /g/data/kl02/jss548/PST/disdrometer/MtView/2018_07_MtView.csv\n"
     ]
    },
    {
     "name": "stderr",
     "output_type": "stream",
     "text": [
      "100%|██████████| 89281/89281 [00:02<00:00, 31470.90it/s]\n"
     ]
    },
    {
     "name": "stdout",
     "output_type": "stream",
     "text": [
      "processing /g/data/kl02/jss548/PST/disdrometer/MtView/2018_08_MtView.csv\n"
     ]
    },
    {
     "name": "stderr",
     "output_type": "stream",
     "text": [
      "100%|██████████| 89281/89281 [00:02<00:00, 31444.22it/s]\n"
     ]
    },
    {
     "name": "stdout",
     "output_type": "stream",
     "text": [
      "processing /g/data/kl02/jss548/PST/disdrometer/MtView/2018_09_MtView.csv\n"
     ]
    },
    {
     "name": "stderr",
     "output_type": "stream",
     "text": [
      "100%|██████████| 86401/86401 [00:02<00:00, 32601.88it/s]\n"
     ]
    },
    {
     "name": "stdout",
     "output_type": "stream",
     "text": [
      "processing /g/data/kl02/jss548/PST/disdrometer/MtView/2018_10_MtView.csv\n"
     ]
    },
    {
     "name": "stderr",
     "output_type": "stream",
     "text": [
      "100%|██████████| 89281/89281 [00:02<00:00, 31577.19it/s]\n"
     ]
    },
    {
     "name": "stdout",
     "output_type": "stream",
     "text": [
      "processing /g/data/kl02/jss548/PST/disdrometer/MtView/2018_11_MtView.csv\n"
     ]
    },
    {
     "name": "stderr",
     "output_type": "stream",
     "text": [
      "100%|██████████| 83551/83551 [00:02<00:00, 31550.77it/s]\n"
     ]
    },
    {
     "name": "stdout",
     "output_type": "stream",
     "text": [
      "processing /g/data/kl02/jss548/PST/disdrometer/MtView/2018_12_MtView.csv\n"
     ]
    },
    {
     "name": "stderr",
     "output_type": "stream",
     "text": [
      "100%|██████████| 80027/80027 [00:02<00:00, 31115.55it/s]\n",
      "  5%|▍         | 3322/67857 [00:00<00:01, 33214.01it/s]"
     ]
    },
    {
     "name": "stdout",
     "output_type": "stream",
     "text": [
      "processing /g/data/kl02/jss548/PST/disdrometer/MtView/2019_01_MtView.csv\n"
     ]
    },
    {
     "name": "stderr",
     "output_type": "stream",
     "text": [
      "100%|██████████| 67857/67857 [00:02<00:00, 31540.91it/s]\n"
     ]
    },
    {
     "name": "stdout",
     "output_type": "stream",
     "text": [
      "processing /g/data/kl02/jss548/PST/disdrometer/MtView/2019_02_MtView.csv\n"
     ]
    },
    {
     "name": "stderr",
     "output_type": "stream",
     "text": [
      "100%|██████████| 80641/80641 [00:02<00:00, 31528.58it/s]\n"
     ]
    },
    {
     "name": "stdout",
     "output_type": "stream",
     "text": [
      "processing /g/data/kl02/jss548/PST/disdrometer/MtView/2019_03_MtView.csv\n"
     ]
    },
    {
     "name": "stderr",
     "output_type": "stream",
     "text": [
      "100%|██████████| 74881/74881 [00:02<00:00, 31410.98it/s]\n"
     ]
    },
    {
     "name": "stdout",
     "output_type": "stream",
     "text": [
      "processing /g/data/kl02/jss548/PST/disdrometer/MtView/2019_04_MtView.csv\n"
     ]
    },
    {
     "name": "stderr",
     "output_type": "stream",
     "text": [
      "100%|██████████| 86401/86401 [00:02<00:00, 32467.07it/s]\n"
     ]
    },
    {
     "name": "stdout",
     "output_type": "stream",
     "text": [
      "processing /g/data/kl02/jss548/PST/disdrometer/MtView/2019_05_MtView.csv\n"
     ]
    },
    {
     "name": "stderr",
     "output_type": "stream",
     "text": [
      "100%|██████████| 89281/89281 [00:02<00:00, 31929.81it/s]\n"
     ]
    },
    {
     "name": "stdout",
     "output_type": "stream",
     "text": [
      "processing /g/data/kl02/jss548/PST/disdrometer/MtView/2019_06_MtView.csv\n"
     ]
    },
    {
     "name": "stderr",
     "output_type": "stream",
     "text": [
      "100%|██████████| 86401/86401 [00:02<00:00, 31836.01it/s]\n"
     ]
    },
    {
     "name": "stdout",
     "output_type": "stream",
     "text": [
      "processing /g/data/kl02/jss548/PST/disdrometer/MtView/2019_07_MtView.csv\n"
     ]
    },
    {
     "name": "stderr",
     "output_type": "stream",
     "text": [
      "100%|██████████| 89281/89281 [00:02<00:00, 31872.98it/s]\n"
     ]
    },
    {
     "name": "stdout",
     "output_type": "stream",
     "text": [
      "processing /g/data/kl02/jss548/PST/disdrometer/MtView/2019_08_MtView.csv\n"
     ]
    },
    {
     "name": "stderr",
     "output_type": "stream",
     "text": [
      "100%|██████████| 89281/89281 [00:02<00:00, 31803.57it/s]\n",
      " 10%|▉         | 3297/33268 [00:00<00:00, 32964.06it/s]"
     ]
    },
    {
     "name": "stdout",
     "output_type": "stream",
     "text": [
      "processing /g/data/kl02/jss548/PST/disdrometer/MtView/2019_09_MtView.csv\n"
     ]
    },
    {
     "name": "stderr",
     "output_type": "stream",
     "text": [
      "100%|██████████| 33268/33268 [00:01<00:00, 30348.04it/s]\n",
      "100%|██████████| 33267/33267 [00:02<00:00, 16008.24it/s]\n"
     ]
    },
    {
     "name": "stdout",
     "output_type": "stream",
     "text": [
      "processing /g/data/kl02/jss548/PST/disdrometer/MtView/2017_12_MtView.csv\n"
     ]
    },
    {
     "name": "stderr",
     "output_type": "stream",
     "text": [
      "100%|██████████| 81795/81795 [00:02<00:00, 32617.05it/s]\n"
     ]
    },
    {
     "name": "stdout",
     "output_type": "stream",
     "text": [
      "processing /g/data/kl02/jss548/PST/disdrometer/MtView/2018_01_MtView.csv\n"
     ]
    },
    {
     "name": "stderr",
     "output_type": "stream",
     "text": [
      "100%|██████████| 89281/89281 [00:02<00:00, 31876.58it/s]\n"
     ]
    },
    {
     "name": "stdout",
     "output_type": "stream",
     "text": [
      "processing /g/data/kl02/jss548/PST/disdrometer/MtView/2018_02_MtView.csv\n"
     ]
    },
    {
     "name": "stderr",
     "output_type": "stream",
     "text": [
      "100%|██████████| 80641/80641 [00:02<00:00, 32523.34it/s]\n"
     ]
    },
    {
     "name": "stdout",
     "output_type": "stream",
     "text": [
      "processing /g/data/kl02/jss548/PST/disdrometer/MtView/2018_03_MtView.csv\n"
     ]
    },
    {
     "name": "stderr",
     "output_type": "stream",
     "text": [
      "100%|██████████| 89281/89281 [00:02<00:00, 32085.33it/s]\n"
     ]
    },
    {
     "name": "stdout",
     "output_type": "stream",
     "text": [
      "processing /g/data/kl02/jss548/PST/disdrometer/MtView/2018_04_MtView.csv\n"
     ]
    },
    {
     "name": "stderr",
     "output_type": "stream",
     "text": [
      "100%|██████████| 86401/86401 [00:02<00:00, 32467.36it/s]\n"
     ]
    },
    {
     "name": "stdout",
     "output_type": "stream",
     "text": [
      "processing /g/data/kl02/jss548/PST/disdrometer/MtView/2018_05_MtView.csv\n"
     ]
    },
    {
     "name": "stderr",
     "output_type": "stream",
     "text": [
      "100%|██████████| 89281/89281 [00:02<00:00, 32327.22it/s]\n"
     ]
    },
    {
     "name": "stdout",
     "output_type": "stream",
     "text": [
      "processing /g/data/kl02/jss548/PST/disdrometer/MtView/2018_06_MtView.csv\n"
     ]
    },
    {
     "name": "stderr",
     "output_type": "stream",
     "text": [
      "100%|██████████| 74491/74491 [00:02<00:00, 29358.25it/s]\n"
     ]
    },
    {
     "name": "stdout",
     "output_type": "stream",
     "text": [
      "processing /g/data/kl02/jss548/PST/disdrometer/MtView/2018_07_MtView.csv\n"
     ]
    },
    {
     "name": "stderr",
     "output_type": "stream",
     "text": [
      "100%|██████████| 89281/89281 [00:02<00:00, 31748.52it/s]\n"
     ]
    },
    {
     "name": "stdout",
     "output_type": "stream",
     "text": [
      "processing /g/data/kl02/jss548/PST/disdrometer/MtView/2018_08_MtView.csv\n"
     ]
    },
    {
     "name": "stderr",
     "output_type": "stream",
     "text": [
      "100%|██████████| 89281/89281 [00:02<00:00, 31739.60it/s]\n"
     ]
    },
    {
     "name": "stdout",
     "output_type": "stream",
     "text": [
      "processing /g/data/kl02/jss548/PST/disdrometer/MtView/2018_09_MtView.csv\n"
     ]
    },
    {
     "name": "stderr",
     "output_type": "stream",
     "text": [
      "100%|██████████| 86401/86401 [00:02<00:00, 31725.70it/s]\n"
     ]
    },
    {
     "name": "stdout",
     "output_type": "stream",
     "text": [
      "processing /g/data/kl02/jss548/PST/disdrometer/MtView/2018_10_MtView.csv\n"
     ]
    },
    {
     "name": "stderr",
     "output_type": "stream",
     "text": [
      "100%|██████████| 89281/89281 [00:02<00:00, 30857.77it/s]\n"
     ]
    },
    {
     "name": "stdout",
     "output_type": "stream",
     "text": [
      "processing /g/data/kl02/jss548/PST/disdrometer/MtView/2018_11_MtView.csv\n"
     ]
    },
    {
     "name": "stderr",
     "output_type": "stream",
     "text": [
      "100%|██████████| 83551/83551 [00:02<00:00, 31331.14it/s]\n"
     ]
    },
    {
     "name": "stdout",
     "output_type": "stream",
     "text": [
      "processing /g/data/kl02/jss548/PST/disdrometer/MtView/2018_12_MtView.csv\n"
     ]
    },
    {
     "name": "stderr",
     "output_type": "stream",
     "text": [
      "100%|██████████| 80027/80027 [00:02<00:00, 32794.29it/s]\n"
     ]
    },
    {
     "name": "stdout",
     "output_type": "stream",
     "text": [
      "processing /g/data/kl02/jss548/PST/disdrometer/MtView/2019_01_MtView.csv\n"
     ]
    },
    {
     "name": "stderr",
     "output_type": "stream",
     "text": [
      "100%|██████████| 67857/67857 [00:02<00:00, 31890.53it/s]\n"
     ]
    },
    {
     "name": "stdout",
     "output_type": "stream",
     "text": [
      "processing /g/data/kl02/jss548/PST/disdrometer/MtView/2019_02_MtView.csv\n"
     ]
    },
    {
     "name": "stderr",
     "output_type": "stream",
     "text": [
      "100%|██████████| 80641/80641 [00:02<00:00, 31838.94it/s]\n"
     ]
    },
    {
     "name": "stdout",
     "output_type": "stream",
     "text": [
      "processing /g/data/kl02/jss548/PST/disdrometer/MtView/2019_03_MtView.csv\n"
     ]
    },
    {
     "name": "stderr",
     "output_type": "stream",
     "text": [
      "100%|██████████| 74881/74881 [00:02<00:00, 31672.36it/s]\n"
     ]
    },
    {
     "name": "stdout",
     "output_type": "stream",
     "text": [
      "processing /g/data/kl02/jss548/PST/disdrometer/MtView/2019_04_MtView.csv\n"
     ]
    },
    {
     "name": "stderr",
     "output_type": "stream",
     "text": [
      "100%|██████████| 86401/86401 [00:02<00:00, 31472.44it/s]\n"
     ]
    },
    {
     "name": "stdout",
     "output_type": "stream",
     "text": [
      "processing /g/data/kl02/jss548/PST/disdrometer/MtView/2019_05_MtView.csv\n"
     ]
    },
    {
     "name": "stderr",
     "output_type": "stream",
     "text": [
      "100%|██████████| 89281/89281 [00:02<00:00, 31673.13it/s]\n"
     ]
    },
    {
     "name": "stdout",
     "output_type": "stream",
     "text": [
      "processing /g/data/kl02/jss548/PST/disdrometer/MtView/2019_06_MtView.csv\n"
     ]
    },
    {
     "name": "stderr",
     "output_type": "stream",
     "text": [
      "100%|██████████| 86401/86401 [00:02<00:00, 31542.30it/s]\n"
     ]
    },
    {
     "name": "stdout",
     "output_type": "stream",
     "text": [
      "processing /g/data/kl02/jss548/PST/disdrometer/MtView/2019_07_MtView.csv\n"
     ]
    },
    {
     "name": "stderr",
     "output_type": "stream",
     "text": [
      "100%|██████████| 89281/89281 [00:02<00:00, 31521.42it/s]\n"
     ]
    },
    {
     "name": "stdout",
     "output_type": "stream",
     "text": [
      "processing /g/data/kl02/jss548/PST/disdrometer/MtView/2019_08_MtView.csv\n"
     ]
    },
    {
     "name": "stderr",
     "output_type": "stream",
     "text": [
      "100%|██████████| 89281/89281 [00:02<00:00, 31452.02it/s]\n",
      " 10%|▉         | 3288/33268 [00:00<00:00, 32874.54it/s]"
     ]
    },
    {
     "name": "stdout",
     "output_type": "stream",
     "text": [
      "processing /g/data/kl02/jss548/PST/disdrometer/MtView/2019_09_MtView.csv\n"
     ]
    },
    {
     "name": "stderr",
     "output_type": "stream",
     "text": [
      "100%|██████████| 33268/33268 [00:01<00:00, 31806.25it/s]\n",
      "100%|██████████| 33267/33267 [00:02<00:00, 16127.90it/s]\n"
     ]
    },
    {
     "name": "stdout",
     "output_type": "stream",
     "text": [
      "processing /g/data/kl02/jss548/PST/disdrometer/MtView/2017_12_MtView.csv\n"
     ]
    },
    {
     "name": "stderr",
     "output_type": "stream",
     "text": [
      "100%|██████████| 81795/81795 [00:02<00:00, 31380.72it/s]\n"
     ]
    },
    {
     "name": "stdout",
     "output_type": "stream",
     "text": [
      "processing /g/data/kl02/jss548/PST/disdrometer/MtView/2018_01_MtView.csv\n"
     ]
    },
    {
     "name": "stderr",
     "output_type": "stream",
     "text": [
      "100%|██████████| 89281/89281 [00:02<00:00, 31738.35it/s]\n"
     ]
    },
    {
     "name": "stdout",
     "output_type": "stream",
     "text": [
      "processing /g/data/kl02/jss548/PST/disdrometer/MtView/2018_02_MtView.csv\n"
     ]
    },
    {
     "name": "stderr",
     "output_type": "stream",
     "text": [
      "100%|██████████| 80641/80641 [00:02<00:00, 32087.84it/s]\n"
     ]
    },
    {
     "name": "stdout",
     "output_type": "stream",
     "text": [
      "processing /g/data/kl02/jss548/PST/disdrometer/MtView/2018_03_MtView.csv\n"
     ]
    },
    {
     "name": "stderr",
     "output_type": "stream",
     "text": [
      "100%|██████████| 89281/89281 [00:02<00:00, 32149.74it/s]\n"
     ]
    },
    {
     "name": "stdout",
     "output_type": "stream",
     "text": [
      "processing /g/data/kl02/jss548/PST/disdrometer/MtView/2018_04_MtView.csv\n"
     ]
    },
    {
     "name": "stderr",
     "output_type": "stream",
     "text": [
      "100%|██████████| 86401/86401 [00:02<00:00, 32023.58it/s]\n"
     ]
    },
    {
     "name": "stdout",
     "output_type": "stream",
     "text": [
      "processing /g/data/kl02/jss548/PST/disdrometer/MtView/2018_05_MtView.csv\n"
     ]
    },
    {
     "name": "stderr",
     "output_type": "stream",
     "text": [
      "100%|██████████| 89281/89281 [00:02<00:00, 33345.53it/s]\n"
     ]
    },
    {
     "name": "stdout",
     "output_type": "stream",
     "text": [
      "processing /g/data/kl02/jss548/PST/disdrometer/MtView/2018_06_MtView.csv\n"
     ]
    },
    {
     "name": "stderr",
     "output_type": "stream",
     "text": [
      "100%|██████████| 74491/74491 [00:02<00:00, 29467.49it/s]\n"
     ]
    },
    {
     "name": "stdout",
     "output_type": "stream",
     "text": [
      "processing /g/data/kl02/jss548/PST/disdrometer/MtView/2018_07_MtView.csv\n"
     ]
    },
    {
     "name": "stderr",
     "output_type": "stream",
     "text": [
      "100%|██████████| 89281/89281 [00:02<00:00, 31870.20it/s]\n"
     ]
    },
    {
     "name": "stdout",
     "output_type": "stream",
     "text": [
      "processing /g/data/kl02/jss548/PST/disdrometer/MtView/2018_08_MtView.csv\n"
     ]
    },
    {
     "name": "stderr",
     "output_type": "stream",
     "text": [
      "100%|██████████| 89281/89281 [00:02<00:00, 31571.07it/s]\n"
     ]
    },
    {
     "name": "stdout",
     "output_type": "stream",
     "text": [
      "processing /g/data/kl02/jss548/PST/disdrometer/MtView/2018_09_MtView.csv\n"
     ]
    },
    {
     "name": "stderr",
     "output_type": "stream",
     "text": [
      "100%|██████████| 86401/86401 [00:02<00:00, 31083.53it/s]\n"
     ]
    },
    {
     "name": "stdout",
     "output_type": "stream",
     "text": [
      "processing /g/data/kl02/jss548/PST/disdrometer/MtView/2018_10_MtView.csv\n"
     ]
    },
    {
     "name": "stderr",
     "output_type": "stream",
     "text": [
      "100%|██████████| 89281/89281 [00:02<00:00, 31583.22it/s]\n"
     ]
    },
    {
     "name": "stdout",
     "output_type": "stream",
     "text": [
      "processing /g/data/kl02/jss548/PST/disdrometer/MtView/2018_11_MtView.csv\n"
     ]
    },
    {
     "name": "stderr",
     "output_type": "stream",
     "text": [
      "100%|██████████| 83551/83551 [00:02<00:00, 31536.10it/s]\n"
     ]
    },
    {
     "name": "stdout",
     "output_type": "stream",
     "text": [
      "processing /g/data/kl02/jss548/PST/disdrometer/MtView/2018_12_MtView.csv\n"
     ]
    },
    {
     "name": "stderr",
     "output_type": "stream",
     "text": [
      "100%|██████████| 80027/80027 [00:02<00:00, 31379.76it/s]\n"
     ]
    },
    {
     "name": "stdout",
     "output_type": "stream",
     "text": [
      "processing /g/data/kl02/jss548/PST/disdrometer/MtView/2019_01_MtView.csv\n"
     ]
    },
    {
     "name": "stderr",
     "output_type": "stream",
     "text": [
      "100%|██████████| 67857/67857 [00:02<00:00, 31074.03it/s]\n"
     ]
    },
    {
     "name": "stdout",
     "output_type": "stream",
     "text": [
      "processing /g/data/kl02/jss548/PST/disdrometer/MtView/2019_02_MtView.csv\n"
     ]
    },
    {
     "name": "stderr",
     "output_type": "stream",
     "text": [
      "100%|██████████| 80641/80641 [00:02<00:00, 32617.03it/s]\n"
     ]
    },
    {
     "name": "stdout",
     "output_type": "stream",
     "text": [
      "processing /g/data/kl02/jss548/PST/disdrometer/MtView/2019_03_MtView.csv\n"
     ]
    },
    {
     "name": "stderr",
     "output_type": "stream",
     "text": [
      "100%|██████████| 74881/74881 [00:02<00:00, 31692.92it/s]\n"
     ]
    },
    {
     "name": "stdout",
     "output_type": "stream",
     "text": [
      "processing /g/data/kl02/jss548/PST/disdrometer/MtView/2019_04_MtView.csv\n"
     ]
    },
    {
     "name": "stderr",
     "output_type": "stream",
     "text": [
      "100%|██████████| 86401/86401 [00:02<00:00, 31355.57it/s]\n"
     ]
    },
    {
     "name": "stdout",
     "output_type": "stream",
     "text": [
      "processing /g/data/kl02/jss548/PST/disdrometer/MtView/2019_05_MtView.csv\n"
     ]
    },
    {
     "name": "stderr",
     "output_type": "stream",
     "text": [
      "100%|██████████| 89281/89281 [00:02<00:00, 31204.58it/s]\n"
     ]
    },
    {
     "name": "stdout",
     "output_type": "stream",
     "text": [
      "processing /g/data/kl02/jss548/PST/disdrometer/MtView/2019_06_MtView.csv\n"
     ]
    },
    {
     "name": "stderr",
     "output_type": "stream",
     "text": [
      "100%|██████████| 86401/86401 [00:02<00:00, 31586.09it/s]\n"
     ]
    },
    {
     "name": "stdout",
     "output_type": "stream",
     "text": [
      "processing /g/data/kl02/jss548/PST/disdrometer/MtView/2019_07_MtView.csv\n"
     ]
    },
    {
     "name": "stderr",
     "output_type": "stream",
     "text": [
      "100%|██████████| 89281/89281 [00:02<00:00, 30819.82it/s]\n"
     ]
    },
    {
     "name": "stdout",
     "output_type": "stream",
     "text": [
      "processing /g/data/kl02/jss548/PST/disdrometer/MtView/2019_08_MtView.csv\n"
     ]
    },
    {
     "name": "stderr",
     "output_type": "stream",
     "text": [
      "100%|██████████| 89281/89281 [00:02<00:00, 31392.72it/s]\n",
      " 10%|▉         | 3291/33268 [00:00<00:00, 32908.23it/s]"
     ]
    },
    {
     "name": "stdout",
     "output_type": "stream",
     "text": [
      "processing /g/data/kl02/jss548/PST/disdrometer/MtView/2019_09_MtView.csv\n"
     ]
    },
    {
     "name": "stderr",
     "output_type": "stream",
     "text": [
      "100%|██████████| 33268/33268 [00:01<00:00, 32119.94it/s]\n",
      "100%|██████████| 33267/33267 [00:02<00:00, 16058.28it/s]\n"
     ]
    },
    {
     "name": "stdout",
     "output_type": "stream",
     "text": [
      "processing /g/data/kl02/jss548/PST/disdrometer/MtView/2017_12_MtView.csv\n"
     ]
    },
    {
     "name": "stderr",
     "output_type": "stream",
     "text": [
      "100%|██████████| 81795/81795 [00:02<00:00, 31354.80it/s]\n"
     ]
    },
    {
     "name": "stdout",
     "output_type": "stream",
     "text": [
      "processing /g/data/kl02/jss548/PST/disdrometer/MtView/2018_01_MtView.csv\n"
     ]
    },
    {
     "name": "stderr",
     "output_type": "stream",
     "text": [
      "100%|██████████| 89281/89281 [00:02<00:00, 31628.77it/s]\n"
     ]
    },
    {
     "name": "stdout",
     "output_type": "stream",
     "text": [
      "processing /g/data/kl02/jss548/PST/disdrometer/MtView/2018_02_MtView.csv\n"
     ]
    },
    {
     "name": "stderr",
     "output_type": "stream",
     "text": [
      "100%|██████████| 80641/80641 [00:02<00:00, 32061.12it/s]\n"
     ]
    },
    {
     "name": "stdout",
     "output_type": "stream",
     "text": [
      "processing /g/data/kl02/jss548/PST/disdrometer/MtView/2018_03_MtView.csv\n"
     ]
    },
    {
     "name": "stderr",
     "output_type": "stream",
     "text": [
      "100%|██████████| 89281/89281 [00:02<00:00, 32100.86it/s]\n"
     ]
    },
    {
     "name": "stdout",
     "output_type": "stream",
     "text": [
      "processing /g/data/kl02/jss548/PST/disdrometer/MtView/2018_04_MtView.csv\n"
     ]
    },
    {
     "name": "stderr",
     "output_type": "stream",
     "text": [
      "100%|██████████| 86401/86401 [00:02<00:00, 32165.99it/s]\n"
     ]
    },
    {
     "name": "stdout",
     "output_type": "stream",
     "text": [
      "processing /g/data/kl02/jss548/PST/disdrometer/MtView/2018_05_MtView.csv\n"
     ]
    },
    {
     "name": "stderr",
     "output_type": "stream",
     "text": [
      "100%|██████████| 89281/89281 [00:02<00:00, 32040.68it/s]\n"
     ]
    },
    {
     "name": "stdout",
     "output_type": "stream",
     "text": [
      "processing /g/data/kl02/jss548/PST/disdrometer/MtView/2018_06_MtView.csv\n"
     ]
    },
    {
     "name": "stderr",
     "output_type": "stream",
     "text": [
      "100%|██████████| 74491/74491 [00:02<00:00, 28865.79it/s]\n"
     ]
    },
    {
     "name": "stdout",
     "output_type": "stream",
     "text": [
      "processing /g/data/kl02/jss548/PST/disdrometer/MtView/2018_07_MtView.csv\n"
     ]
    },
    {
     "name": "stderr",
     "output_type": "stream",
     "text": [
      "100%|██████████| 89281/89281 [00:02<00:00, 31016.78it/s]\n"
     ]
    },
    {
     "name": "stdout",
     "output_type": "stream",
     "text": [
      "processing /g/data/kl02/jss548/PST/disdrometer/MtView/2018_08_MtView.csv\n"
     ]
    },
    {
     "name": "stderr",
     "output_type": "stream",
     "text": [
      "100%|██████████| 89281/89281 [00:02<00:00, 31373.48it/s]\n"
     ]
    },
    {
     "name": "stdout",
     "output_type": "stream",
     "text": [
      "processing /g/data/kl02/jss548/PST/disdrometer/MtView/2018_09_MtView.csv\n"
     ]
    },
    {
     "name": "stderr",
     "output_type": "stream",
     "text": [
      "100%|██████████| 86401/86401 [00:02<00:00, 32657.15it/s]\n"
     ]
    },
    {
     "name": "stdout",
     "output_type": "stream",
     "text": [
      "processing /g/data/kl02/jss548/PST/disdrometer/MtView/2018_10_MtView.csv\n"
     ]
    },
    {
     "name": "stderr",
     "output_type": "stream",
     "text": [
      "100%|██████████| 89281/89281 [00:02<00:00, 31816.29it/s]\n"
     ]
    },
    {
     "name": "stdout",
     "output_type": "stream",
     "text": [
      "processing /g/data/kl02/jss548/PST/disdrometer/MtView/2018_11_MtView.csv\n"
     ]
    },
    {
     "name": "stderr",
     "output_type": "stream",
     "text": [
      "100%|██████████| 83551/83551 [00:02<00:00, 31713.92it/s]\n"
     ]
    },
    {
     "name": "stdout",
     "output_type": "stream",
     "text": [
      "processing /g/data/kl02/jss548/PST/disdrometer/MtView/2018_12_MtView.csv\n"
     ]
    },
    {
     "name": "stderr",
     "output_type": "stream",
     "text": [
      "100%|██████████| 80027/80027 [00:02<00:00, 31780.46it/s]\n"
     ]
    },
    {
     "name": "stdout",
     "output_type": "stream",
     "text": [
      "processing /g/data/kl02/jss548/PST/disdrometer/MtView/2019_01_MtView.csv\n"
     ]
    },
    {
     "name": "stderr",
     "output_type": "stream",
     "text": [
      "100%|██████████| 67857/67857 [00:02<00:00, 31494.38it/s]\n"
     ]
    },
    {
     "name": "stdout",
     "output_type": "stream",
     "text": [
      "processing /g/data/kl02/jss548/PST/disdrometer/MtView/2019_02_MtView.csv\n"
     ]
    },
    {
     "name": "stderr",
     "output_type": "stream",
     "text": [
      "100%|██████████| 80641/80641 [00:02<00:00, 31281.79it/s]\n"
     ]
    },
    {
     "name": "stdout",
     "output_type": "stream",
     "text": [
      "processing /g/data/kl02/jss548/PST/disdrometer/MtView/2019_03_MtView.csv\n"
     ]
    },
    {
     "name": "stderr",
     "output_type": "stream",
     "text": [
      "100%|██████████| 74881/74881 [00:02<00:00, 31195.76it/s]\n"
     ]
    },
    {
     "name": "stdout",
     "output_type": "stream",
     "text": [
      "processing /g/data/kl02/jss548/PST/disdrometer/MtView/2019_04_MtView.csv\n"
     ]
    },
    {
     "name": "stderr",
     "output_type": "stream",
     "text": [
      "100%|██████████| 86401/86401 [00:02<00:00, 31300.40it/s]\n"
     ]
    },
    {
     "name": "stdout",
     "output_type": "stream",
     "text": [
      "processing /g/data/kl02/jss548/PST/disdrometer/MtView/2019_05_MtView.csv\n"
     ]
    },
    {
     "name": "stderr",
     "output_type": "stream",
     "text": [
      "100%|██████████| 89281/89281 [00:02<00:00, 32540.59it/s]\n"
     ]
    },
    {
     "name": "stdout",
     "output_type": "stream",
     "text": [
      "processing /g/data/kl02/jss548/PST/disdrometer/MtView/2019_06_MtView.csv\n"
     ]
    },
    {
     "name": "stderr",
     "output_type": "stream",
     "text": [
      "100%|██████████| 86401/86401 [00:02<00:00, 31600.83it/s]\n"
     ]
    },
    {
     "name": "stdout",
     "output_type": "stream",
     "text": [
      "processing /g/data/kl02/jss548/PST/disdrometer/MtView/2019_07_MtView.csv\n"
     ]
    },
    {
     "name": "stderr",
     "output_type": "stream",
     "text": [
      "100%|██████████| 89281/89281 [00:02<00:00, 31747.33it/s]\n"
     ]
    },
    {
     "name": "stdout",
     "output_type": "stream",
     "text": [
      "processing /g/data/kl02/jss548/PST/disdrometer/MtView/2019_08_MtView.csv\n"
     ]
    },
    {
     "name": "stderr",
     "output_type": "stream",
     "text": [
      "100%|██████████| 89281/89281 [00:02<00:00, 31732.11it/s]\n",
      " 10%|▉         | 3271/33268 [00:00<00:00, 32700.36it/s]"
     ]
    },
    {
     "name": "stdout",
     "output_type": "stream",
     "text": [
      "processing /g/data/kl02/jss548/PST/disdrometer/MtView/2019_09_MtView.csv\n"
     ]
    },
    {
     "name": "stderr",
     "output_type": "stream",
     "text": [
      "100%|██████████| 33268/33268 [00:01<00:00, 30141.79it/s]\n",
      "100%|██████████| 33267/33267 [00:02<00:00, 15623.36it/s]\n"
     ]
    },
    {
     "name": "stdout",
     "output_type": "stream",
     "text": [
      "processing /g/data/kl02/jss548/PST/disdrometer/MtView/2017_12_MtView.csv\n"
     ]
    },
    {
     "name": "stderr",
     "output_type": "stream",
     "text": [
      "100%|██████████| 81795/81795 [00:02<00:00, 30675.34it/s]\n"
     ]
    },
    {
     "name": "stdout",
     "output_type": "stream",
     "text": [
      "processing /g/data/kl02/jss548/PST/disdrometer/MtView/2018_01_MtView.csv\n"
     ]
    },
    {
     "name": "stderr",
     "output_type": "stream",
     "text": [
      "100%|██████████| 89281/89281 [00:02<00:00, 32604.38it/s]\n"
     ]
    },
    {
     "name": "stdout",
     "output_type": "stream",
     "text": [
      "processing /g/data/kl02/jss548/PST/disdrometer/MtView/2018_02_MtView.csv\n"
     ]
    },
    {
     "name": "stderr",
     "output_type": "stream",
     "text": [
      "100%|██████████| 80641/80641 [00:02<00:00, 32329.22it/s]\n"
     ]
    },
    {
     "name": "stdout",
     "output_type": "stream",
     "text": [
      "processing /g/data/kl02/jss548/PST/disdrometer/MtView/2018_03_MtView.csv\n"
     ]
    },
    {
     "name": "stderr",
     "output_type": "stream",
     "text": [
      "100%|██████████| 89281/89281 [00:02<00:00, 32447.77it/s]\n"
     ]
    },
    {
     "name": "stdout",
     "output_type": "stream",
     "text": [
      "processing /g/data/kl02/jss548/PST/disdrometer/MtView/2018_04_MtView.csv\n"
     ]
    },
    {
     "name": "stderr",
     "output_type": "stream",
     "text": [
      "100%|██████████| 86401/86401 [00:02<00:00, 32372.40it/s]\n"
     ]
    },
    {
     "name": "stdout",
     "output_type": "stream",
     "text": [
      "processing /g/data/kl02/jss548/PST/disdrometer/MtView/2018_05_MtView.csv\n"
     ]
    },
    {
     "name": "stderr",
     "output_type": "stream",
     "text": [
      "100%|██████████| 89281/89281 [00:02<00:00, 32258.29it/s]\n"
     ]
    },
    {
     "name": "stdout",
     "output_type": "stream",
     "text": [
      "processing /g/data/kl02/jss548/PST/disdrometer/MtView/2018_06_MtView.csv\n"
     ]
    },
    {
     "name": "stderr",
     "output_type": "stream",
     "text": [
      "100%|██████████| 74491/74491 [00:02<00:00, 29260.45it/s]\n"
     ]
    },
    {
     "name": "stdout",
     "output_type": "stream",
     "text": [
      "processing /g/data/kl02/jss548/PST/disdrometer/MtView/2018_07_MtView.csv\n"
     ]
    },
    {
     "name": "stderr",
     "output_type": "stream",
     "text": [
      "100%|██████████| 89281/89281 [00:02<00:00, 31730.52it/s]\n"
     ]
    },
    {
     "name": "stdout",
     "output_type": "stream",
     "text": [
      "processing /g/data/kl02/jss548/PST/disdrometer/MtView/2018_08_MtView.csv\n"
     ]
    },
    {
     "name": "stderr",
     "output_type": "stream",
     "text": [
      "100%|██████████| 89281/89281 [00:02<00:00, 31526.56it/s]\n"
     ]
    },
    {
     "name": "stdout",
     "output_type": "stream",
     "text": [
      "processing /g/data/kl02/jss548/PST/disdrometer/MtView/2018_09_MtView.csv\n"
     ]
    },
    {
     "name": "stderr",
     "output_type": "stream",
     "text": [
      "100%|██████████| 86401/86401 [00:02<00:00, 31534.40it/s]\n"
     ]
    },
    {
     "name": "stdout",
     "output_type": "stream",
     "text": [
      "processing /g/data/kl02/jss548/PST/disdrometer/MtView/2018_10_MtView.csv\n"
     ]
    },
    {
     "name": "stderr",
     "output_type": "stream",
     "text": [
      "100%|██████████| 89281/89281 [00:02<00:00, 31486.14it/s]\n"
     ]
    },
    {
     "name": "stdout",
     "output_type": "stream",
     "text": [
      "processing /g/data/kl02/jss548/PST/disdrometer/MtView/2018_11_MtView.csv\n"
     ]
    },
    {
     "name": "stderr",
     "output_type": "stream",
     "text": [
      "100%|██████████| 83551/83551 [00:02<00:00, 31328.92it/s]\n"
     ]
    },
    {
     "name": "stdout",
     "output_type": "stream",
     "text": [
      "processing /g/data/kl02/jss548/PST/disdrometer/MtView/2018_12_MtView.csv\n"
     ]
    },
    {
     "name": "stderr",
     "output_type": "stream",
     "text": [
      "100%|██████████| 80027/80027 [00:02<00:00, 31419.17it/s]\n"
     ]
    },
    {
     "name": "stdout",
     "output_type": "stream",
     "text": [
      "processing /g/data/kl02/jss548/PST/disdrometer/MtView/2019_01_MtView.csv\n"
     ]
    },
    {
     "name": "stderr",
     "output_type": "stream",
     "text": [
      "100%|██████████| 67857/67857 [00:02<00:00, 32718.20it/s]\n"
     ]
    },
    {
     "name": "stdout",
     "output_type": "stream",
     "text": [
      "processing /g/data/kl02/jss548/PST/disdrometer/MtView/2019_02_MtView.csv\n"
     ]
    },
    {
     "name": "stderr",
     "output_type": "stream",
     "text": [
      "100%|██████████| 80641/80641 [00:02<00:00, 31736.20it/s]\n"
     ]
    },
    {
     "name": "stdout",
     "output_type": "stream",
     "text": [
      "processing /g/data/kl02/jss548/PST/disdrometer/MtView/2019_03_MtView.csv\n"
     ]
    },
    {
     "name": "stderr",
     "output_type": "stream",
     "text": [
      "100%|██████████| 74881/74881 [00:02<00:00, 31437.10it/s]\n"
     ]
    },
    {
     "name": "stdout",
     "output_type": "stream",
     "text": [
      "processing /g/data/kl02/jss548/PST/disdrometer/MtView/2019_04_MtView.csv\n"
     ]
    },
    {
     "name": "stderr",
     "output_type": "stream",
     "text": [
      "100%|██████████| 86401/86401 [00:02<00:00, 31595.04it/s]\n"
     ]
    },
    {
     "name": "stdout",
     "output_type": "stream",
     "text": [
      "processing /g/data/kl02/jss548/PST/disdrometer/MtView/2019_05_MtView.csv\n"
     ]
    },
    {
     "name": "stderr",
     "output_type": "stream",
     "text": [
      "100%|██████████| 89281/89281 [00:02<00:00, 31516.63it/s]\n"
     ]
    },
    {
     "name": "stdout",
     "output_type": "stream",
     "text": [
      "processing /g/data/kl02/jss548/PST/disdrometer/MtView/2019_06_MtView.csv\n"
     ]
    },
    {
     "name": "stderr",
     "output_type": "stream",
     "text": [
      "100%|██████████| 86401/86401 [00:02<00:00, 31356.15it/s]\n"
     ]
    },
    {
     "name": "stdout",
     "output_type": "stream",
     "text": [
      "processing /g/data/kl02/jss548/PST/disdrometer/MtView/2019_07_MtView.csv\n"
     ]
    },
    {
     "name": "stderr",
     "output_type": "stream",
     "text": [
      "100%|██████████| 89281/89281 [00:02<00:00, 31323.22it/s]\n"
     ]
    },
    {
     "name": "stdout",
     "output_type": "stream",
     "text": [
      "processing /g/data/kl02/jss548/PST/disdrometer/MtView/2019_08_MtView.csv\n"
     ]
    },
    {
     "name": "stderr",
     "output_type": "stream",
     "text": [
      "100%|██████████| 89281/89281 [00:02<00:00, 31304.76it/s]\n",
      " 10%|▉         | 3302/33268 [00:00<00:00, 33014.36it/s]"
     ]
    },
    {
     "name": "stdout",
     "output_type": "stream",
     "text": [
      "processing /g/data/kl02/jss548/PST/disdrometer/MtView/2019_09_MtView.csv\n"
     ]
    },
    {
     "name": "stderr",
     "output_type": "stream",
     "text": [
      "100%|██████████| 33268/33268 [00:01<00:00, 31828.43it/s]\n",
      "100%|██████████| 33267/33267 [00:02<00:00, 15930.35it/s]\n"
     ]
    },
    {
     "name": "stdout",
     "output_type": "stream",
     "text": [
      "processing /g/data/kl02/jss548/PST/disdrometer/MtView/2017_12_MtView.csv\n"
     ]
    },
    {
     "name": "stderr",
     "output_type": "stream",
     "text": [
      "100%|██████████| 81795/81795 [00:02<00:00, 31291.33it/s]\n"
     ]
    },
    {
     "name": "stdout",
     "output_type": "stream",
     "text": [
      "processing /g/data/kl02/jss548/PST/disdrometer/MtView/2018_01_MtView.csv\n"
     ]
    },
    {
     "name": "stderr",
     "output_type": "stream",
     "text": [
      "100%|██████████| 89281/89281 [00:02<00:00, 31383.10it/s]\n"
     ]
    },
    {
     "name": "stdout",
     "output_type": "stream",
     "text": [
      "processing /g/data/kl02/jss548/PST/disdrometer/MtView/2018_02_MtView.csv\n"
     ]
    },
    {
     "name": "stderr",
     "output_type": "stream",
     "text": [
      "100%|██████████| 80641/80641 [00:02<00:00, 31705.04it/s]\n"
     ]
    },
    {
     "name": "stdout",
     "output_type": "stream",
     "text": [
      "processing /g/data/kl02/jss548/PST/disdrometer/MtView/2018_03_MtView.csv\n"
     ]
    },
    {
     "name": "stderr",
     "output_type": "stream",
     "text": [
      "100%|██████████| 89281/89281 [00:02<00:00, 31188.27it/s]\n"
     ]
    },
    {
     "name": "stdout",
     "output_type": "stream",
     "text": [
      "processing /g/data/kl02/jss548/PST/disdrometer/MtView/2018_04_MtView.csv\n"
     ]
    },
    {
     "name": "stderr",
     "output_type": "stream",
     "text": [
      "100%|██████████| 86401/86401 [00:02<00:00, 31926.14it/s]\n"
     ]
    },
    {
     "name": "stdout",
     "output_type": "stream",
     "text": [
      "processing /g/data/kl02/jss548/PST/disdrometer/MtView/2018_05_MtView.csv\n"
     ]
    },
    {
     "name": "stderr",
     "output_type": "stream",
     "text": [
      "100%|██████████| 89281/89281 [00:02<00:00, 31791.97it/s]\n"
     ]
    },
    {
     "name": "stdout",
     "output_type": "stream",
     "text": [
      "processing /g/data/kl02/jss548/PST/disdrometer/MtView/2018_06_MtView.csv\n"
     ]
    },
    {
     "name": "stderr",
     "output_type": "stream",
     "text": [
      "100%|██████████| 74491/74491 [00:02<00:00, 30153.21it/s]\n"
     ]
    },
    {
     "name": "stdout",
     "output_type": "stream",
     "text": [
      "processing /g/data/kl02/jss548/PST/disdrometer/MtView/2018_07_MtView.csv\n"
     ]
    },
    {
     "name": "stderr",
     "output_type": "stream",
     "text": [
      "100%|██████████| 89281/89281 [00:02<00:00, 31782.98it/s]\n"
     ]
    },
    {
     "name": "stdout",
     "output_type": "stream",
     "text": [
      "processing /g/data/kl02/jss548/PST/disdrometer/MtView/2018_08_MtView.csv\n"
     ]
    },
    {
     "name": "stderr",
     "output_type": "stream",
     "text": [
      "100%|██████████| 89281/89281 [00:02<00:00, 31728.60it/s]\n"
     ]
    },
    {
     "name": "stdout",
     "output_type": "stream",
     "text": [
      "processing /g/data/kl02/jss548/PST/disdrometer/MtView/2018_09_MtView.csv\n"
     ]
    },
    {
     "name": "stderr",
     "output_type": "stream",
     "text": [
      "100%|██████████| 86401/86401 [00:02<00:00, 31771.22it/s]\n"
     ]
    },
    {
     "name": "stdout",
     "output_type": "stream",
     "text": [
      "processing /g/data/kl02/jss548/PST/disdrometer/MtView/2018_10_MtView.csv\n"
     ]
    },
    {
     "name": "stderr",
     "output_type": "stream",
     "text": [
      "100%|██████████| 89281/89281 [00:02<00:00, 31360.26it/s]\n"
     ]
    },
    {
     "name": "stdout",
     "output_type": "stream",
     "text": [
      "processing /g/data/kl02/jss548/PST/disdrometer/MtView/2018_11_MtView.csv\n"
     ]
    },
    {
     "name": "stderr",
     "output_type": "stream",
     "text": [
      "100%|██████████| 83551/83551 [00:02<00:00, 30965.00it/s]\n"
     ]
    },
    {
     "name": "stdout",
     "output_type": "stream",
     "text": [
      "processing /g/data/kl02/jss548/PST/disdrometer/MtView/2018_12_MtView.csv\n"
     ]
    },
    {
     "name": "stderr",
     "output_type": "stream",
     "text": [
      "100%|██████████| 80027/80027 [00:02<00:00, 31556.34it/s]\n"
     ]
    },
    {
     "name": "stdout",
     "output_type": "stream",
     "text": [
      "processing /g/data/kl02/jss548/PST/disdrometer/MtView/2019_01_MtView.csv\n"
     ]
    },
    {
     "name": "stderr",
     "output_type": "stream",
     "text": [
      "100%|██████████| 67857/67857 [00:02<00:00, 30261.26it/s]\n"
     ]
    },
    {
     "name": "stdout",
     "output_type": "stream",
     "text": [
      "processing /g/data/kl02/jss548/PST/disdrometer/MtView/2019_02_MtView.csv\n"
     ]
    },
    {
     "name": "stderr",
     "output_type": "stream",
     "text": [
      "100%|██████████| 80641/80641 [00:02<00:00, 32744.01it/s]\n"
     ]
    },
    {
     "name": "stdout",
     "output_type": "stream",
     "text": [
      "processing /g/data/kl02/jss548/PST/disdrometer/MtView/2019_03_MtView.csv\n"
     ]
    },
    {
     "name": "stderr",
     "output_type": "stream",
     "text": [
      "100%|██████████| 74881/74881 [00:02<00:00, 31779.01it/s]\n"
     ]
    },
    {
     "name": "stdout",
     "output_type": "stream",
     "text": [
      "processing /g/data/kl02/jss548/PST/disdrometer/MtView/2019_04_MtView.csv\n"
     ]
    },
    {
     "name": "stderr",
     "output_type": "stream",
     "text": [
      "100%|██████████| 86401/86401 [00:02<00:00, 31563.92it/s]\n"
     ]
    },
    {
     "name": "stdout",
     "output_type": "stream",
     "text": [
      "processing /g/data/kl02/jss548/PST/disdrometer/MtView/2019_05_MtView.csv\n"
     ]
    },
    {
     "name": "stderr",
     "output_type": "stream",
     "text": [
      "100%|██████████| 89281/89281 [00:02<00:00, 31565.01it/s]\n"
     ]
    },
    {
     "name": "stdout",
     "output_type": "stream",
     "text": [
      "processing /g/data/kl02/jss548/PST/disdrometer/MtView/2019_06_MtView.csv\n"
     ]
    },
    {
     "name": "stderr",
     "output_type": "stream",
     "text": [
      "100%|██████████| 86401/86401 [00:02<00:00, 31659.08it/s]\n"
     ]
    },
    {
     "name": "stdout",
     "output_type": "stream",
     "text": [
      "processing /g/data/kl02/jss548/PST/disdrometer/MtView/2019_07_MtView.csv\n"
     ]
    },
    {
     "name": "stderr",
     "output_type": "stream",
     "text": [
      "100%|██████████| 89281/89281 [00:02<00:00, 31624.52it/s]\n"
     ]
    },
    {
     "name": "stdout",
     "output_type": "stream",
     "text": [
      "processing /g/data/kl02/jss548/PST/disdrometer/MtView/2019_08_MtView.csv\n"
     ]
    },
    {
     "name": "stderr",
     "output_type": "stream",
     "text": [
      "100%|██████████| 89281/89281 [00:02<00:00, 31061.95it/s]\n",
      "  0%|          | 0/33268 [00:00<?, ?it/s]"
     ]
    },
    {
     "name": "stdout",
     "output_type": "stream",
     "text": [
      "processing /g/data/kl02/jss548/PST/disdrometer/MtView/2019_09_MtView.csv\n"
     ]
    },
    {
     "name": "stderr",
     "output_type": "stream",
     "text": [
      "100%|██████████| 33268/33268 [00:01<00:00, 32129.54it/s]\n",
      "100%|██████████| 33267/33267 [00:02<00:00, 15867.16it/s]\n"
     ]
    },
    {
     "name": "stdout",
     "output_type": "stream",
     "text": [
      "processing /g/data/kl02/jss548/PST/disdrometer/MtView/2017_12_MtView.csv\n"
     ]
    },
    {
     "name": "stderr",
     "output_type": "stream",
     "text": [
      "100%|██████████| 81795/81795 [00:02<00:00, 30865.40it/s]\n"
     ]
    },
    {
     "name": "stdout",
     "output_type": "stream",
     "text": [
      "processing /g/data/kl02/jss548/PST/disdrometer/MtView/2018_01_MtView.csv\n"
     ]
    },
    {
     "name": "stderr",
     "output_type": "stream",
     "text": [
      "100%|██████████| 89281/89281 [00:02<00:00, 31257.30it/s]\n"
     ]
    },
    {
     "name": "stdout",
     "output_type": "stream",
     "text": [
      "processing /g/data/kl02/jss548/PST/disdrometer/MtView/2018_02_MtView.csv\n"
     ]
    },
    {
     "name": "stderr",
     "output_type": "stream",
     "text": [
      "100%|██████████| 80641/80641 [00:02<00:00, 31811.97it/s]\n"
     ]
    },
    {
     "name": "stdout",
     "output_type": "stream",
     "text": [
      "processing /g/data/kl02/jss548/PST/disdrometer/MtView/2018_03_MtView.csv\n"
     ]
    },
    {
     "name": "stderr",
     "output_type": "stream",
     "text": [
      "100%|██████████| 89281/89281 [00:02<00:00, 32193.31it/s]\n"
     ]
    },
    {
     "name": "stdout",
     "output_type": "stream",
     "text": [
      "processing /g/data/kl02/jss548/PST/disdrometer/MtView/2018_04_MtView.csv\n"
     ]
    },
    {
     "name": "stderr",
     "output_type": "stream",
     "text": [
      "100%|██████████| 86401/86401 [00:02<00:00, 31641.00it/s]\n"
     ]
    },
    {
     "name": "stdout",
     "output_type": "stream",
     "text": [
      "processing /g/data/kl02/jss548/PST/disdrometer/MtView/2018_05_MtView.csv\n"
     ]
    },
    {
     "name": "stderr",
     "output_type": "stream",
     "text": [
      "100%|██████████| 89281/89281 [00:02<00:00, 32108.81it/s]\n"
     ]
    },
    {
     "name": "stdout",
     "output_type": "stream",
     "text": [
      "processing /g/data/kl02/jss548/PST/disdrometer/MtView/2018_06_MtView.csv\n"
     ]
    },
    {
     "name": "stderr",
     "output_type": "stream",
     "text": [
      "100%|██████████| 74491/74491 [00:02<00:00, 29081.00it/s]\n"
     ]
    },
    {
     "name": "stdout",
     "output_type": "stream",
     "text": [
      "processing /g/data/kl02/jss548/PST/disdrometer/MtView/2018_07_MtView.csv\n"
     ]
    },
    {
     "name": "stderr",
     "output_type": "stream",
     "text": [
      "100%|██████████| 89281/89281 [00:02<00:00, 31527.30it/s]\n"
     ]
    },
    {
     "name": "stdout",
     "output_type": "stream",
     "text": [
      "processing /g/data/kl02/jss548/PST/disdrometer/MtView/2018_08_MtView.csv\n"
     ]
    },
    {
     "name": "stderr",
     "output_type": "stream",
     "text": [
      "100%|██████████| 89281/89281 [00:02<00:00, 31456.19it/s]\n"
     ]
    },
    {
     "name": "stdout",
     "output_type": "stream",
     "text": [
      "processing /g/data/kl02/jss548/PST/disdrometer/MtView/2018_09_MtView.csv\n"
     ]
    },
    {
     "name": "stderr",
     "output_type": "stream",
     "text": [
      "100%|██████████| 86401/86401 [00:02<00:00, 31170.05it/s]\n"
     ]
    },
    {
     "name": "stdout",
     "output_type": "stream",
     "text": [
      "processing /g/data/kl02/jss548/PST/disdrometer/MtView/2018_10_MtView.csv\n"
     ]
    },
    {
     "name": "stderr",
     "output_type": "stream",
     "text": [
      "100%|██████████| 89281/89281 [00:02<00:00, 31856.00it/s]\n"
     ]
    },
    {
     "name": "stdout",
     "output_type": "stream",
     "text": [
      "processing /g/data/kl02/jss548/PST/disdrometer/MtView/2018_11_MtView.csv\n"
     ]
    },
    {
     "name": "stderr",
     "output_type": "stream",
     "text": [
      "100%|██████████| 83551/83551 [00:02<00:00, 31105.90it/s]\n"
     ]
    },
    {
     "name": "stdout",
     "output_type": "stream",
     "text": [
      "processing /g/data/kl02/jss548/PST/disdrometer/MtView/2018_12_MtView.csv\n"
     ]
    },
    {
     "name": "stderr",
     "output_type": "stream",
     "text": [
      "100%|██████████| 80027/80027 [00:02<00:00, 31013.50it/s]\n"
     ]
    },
    {
     "name": "stdout",
     "output_type": "stream",
     "text": [
      "processing /g/data/kl02/jss548/PST/disdrometer/MtView/2019_01_MtView.csv\n"
     ]
    },
    {
     "name": "stderr",
     "output_type": "stream",
     "text": [
      "100%|██████████| 67857/67857 [00:02<00:00, 31238.72it/s]\n"
     ]
    },
    {
     "name": "stdout",
     "output_type": "stream",
     "text": [
      "processing /g/data/kl02/jss548/PST/disdrometer/MtView/2019_02_MtView.csv\n"
     ]
    },
    {
     "name": "stderr",
     "output_type": "stream",
     "text": [
      "100%|██████████| 80641/80641 [00:02<00:00, 31381.55it/s]\n"
     ]
    },
    {
     "name": "stdout",
     "output_type": "stream",
     "text": [
      "processing /g/data/kl02/jss548/PST/disdrometer/MtView/2019_03_MtView.csv\n"
     ]
    },
    {
     "name": "stderr",
     "output_type": "stream",
     "text": [
      "100%|██████████| 74881/74881 [00:02<00:00, 31059.87it/s]\n"
     ]
    },
    {
     "name": "stdout",
     "output_type": "stream",
     "text": [
      "processing /g/data/kl02/jss548/PST/disdrometer/MtView/2019_04_MtView.csv\n"
     ]
    },
    {
     "name": "stderr",
     "output_type": "stream",
     "text": [
      "100%|██████████| 86401/86401 [00:02<00:00, 31147.71it/s]\n"
     ]
    },
    {
     "name": "stdout",
     "output_type": "stream",
     "text": [
      "processing /g/data/kl02/jss548/PST/disdrometer/MtView/2019_05_MtView.csv\n"
     ]
    },
    {
     "name": "stderr",
     "output_type": "stream",
     "text": [
      "100%|██████████| 89281/89281 [00:02<00:00, 32572.86it/s]\n"
     ]
    },
    {
     "name": "stdout",
     "output_type": "stream",
     "text": [
      "processing /g/data/kl02/jss548/PST/disdrometer/MtView/2019_06_MtView.csv\n"
     ]
    },
    {
     "name": "stderr",
     "output_type": "stream",
     "text": [
      "100%|██████████| 86401/86401 [00:02<00:00, 31740.48it/s]\n"
     ]
    },
    {
     "name": "stdout",
     "output_type": "stream",
     "text": [
      "processing /g/data/kl02/jss548/PST/disdrometer/MtView/2019_07_MtView.csv\n"
     ]
    },
    {
     "name": "stderr",
     "output_type": "stream",
     "text": [
      "100%|██████████| 89281/89281 [00:02<00:00, 31749.30it/s]\n"
     ]
    },
    {
     "name": "stdout",
     "output_type": "stream",
     "text": [
      "processing /g/data/kl02/jss548/PST/disdrometer/MtView/2019_08_MtView.csv\n"
     ]
    },
    {
     "name": "stderr",
     "output_type": "stream",
     "text": [
      "100%|██████████| 89281/89281 [00:02<00:00, 31606.50it/s]\n",
      " 10%|▉         | 3290/33268 [00:00<00:00, 32898.23it/s]"
     ]
    },
    {
     "name": "stdout",
     "output_type": "stream",
     "text": [
      "processing /g/data/kl02/jss548/PST/disdrometer/MtView/2019_09_MtView.csv\n"
     ]
    },
    {
     "name": "stderr",
     "output_type": "stream",
     "text": [
      "100%|██████████| 33268/33268 [00:01<00:00, 30068.97it/s]\n",
      "100%|██████████| 33267/33267 [00:02<00:00, 16069.38it/s]\n"
     ]
    },
    {
     "name": "stdout",
     "output_type": "stream",
     "text": [
      "processing /g/data/kl02/jss548/PST/disdrometer/MtView/2017_12_MtView.csv\n"
     ]
    },
    {
     "name": "stderr",
     "output_type": "stream",
     "text": [
      "100%|██████████| 81795/81795 [00:02<00:00, 30693.82it/s]\n"
     ]
    },
    {
     "name": "stdout",
     "output_type": "stream",
     "text": [
      "processing /g/data/kl02/jss548/PST/disdrometer/MtView/2018_01_MtView.csv\n"
     ]
    },
    {
     "name": "stderr",
     "output_type": "stream",
     "text": [
      "100%|██████████| 89281/89281 [00:02<00:00, 31311.45it/s]\n"
     ]
    },
    {
     "name": "stdout",
     "output_type": "stream",
     "text": [
      "processing /g/data/kl02/jss548/PST/disdrometer/MtView/2018_02_MtView.csv\n"
     ]
    },
    {
     "name": "stderr",
     "output_type": "stream",
     "text": [
      "100%|██████████| 80641/80641 [00:02<00:00, 33038.54it/s]\n"
     ]
    },
    {
     "name": "stdout",
     "output_type": "stream",
     "text": [
      "processing /g/data/kl02/jss548/PST/disdrometer/MtView/2018_03_MtView.csv\n"
     ]
    },
    {
     "name": "stderr",
     "output_type": "stream",
     "text": [
      "100%|██████████| 89281/89281 [00:02<00:00, 32191.26it/s]\n"
     ]
    },
    {
     "name": "stdout",
     "output_type": "stream",
     "text": [
      "processing /g/data/kl02/jss548/PST/disdrometer/MtView/2018_04_MtView.csv\n"
     ]
    },
    {
     "name": "stderr",
     "output_type": "stream",
     "text": [
      "100%|██████████| 86401/86401 [00:02<00:00, 32284.24it/s]\n"
     ]
    },
    {
     "name": "stdout",
     "output_type": "stream",
     "text": [
      "processing /g/data/kl02/jss548/PST/disdrometer/MtView/2018_05_MtView.csv\n"
     ]
    },
    {
     "name": "stderr",
     "output_type": "stream",
     "text": [
      "100%|██████████| 89281/89281 [00:02<00:00, 32295.53it/s]\n"
     ]
    },
    {
     "name": "stdout",
     "output_type": "stream",
     "text": [
      "processing /g/data/kl02/jss548/PST/disdrometer/MtView/2018_06_MtView.csv\n"
     ]
    },
    {
     "name": "stderr",
     "output_type": "stream",
     "text": [
      "100%|██████████| 74491/74491 [00:02<00:00, 28975.45it/s]\n"
     ]
    },
    {
     "name": "stdout",
     "output_type": "stream",
     "text": [
      "processing /g/data/kl02/jss548/PST/disdrometer/MtView/2018_07_MtView.csv\n"
     ]
    },
    {
     "name": "stderr",
     "output_type": "stream",
     "text": [
      "100%|██████████| 89281/89281 [00:02<00:00, 31476.46it/s]\n"
     ]
    },
    {
     "name": "stdout",
     "output_type": "stream",
     "text": [
      "processing /g/data/kl02/jss548/PST/disdrometer/MtView/2018_08_MtView.csv\n"
     ]
    },
    {
     "name": "stderr",
     "output_type": "stream",
     "text": [
      "100%|██████████| 89281/89281 [00:02<00:00, 31508.82it/s]\n"
     ]
    },
    {
     "name": "stdout",
     "output_type": "stream",
     "text": [
      "processing /g/data/kl02/jss548/PST/disdrometer/MtView/2018_09_MtView.csv\n"
     ]
    },
    {
     "name": "stderr",
     "output_type": "stream",
     "text": [
      "100%|██████████| 86401/86401 [00:02<00:00, 31396.28it/s]\n"
     ]
    },
    {
     "name": "stdout",
     "output_type": "stream",
     "text": [
      "processing /g/data/kl02/jss548/PST/disdrometer/MtView/2018_10_MtView.csv\n"
     ]
    },
    {
     "name": "stderr",
     "output_type": "stream",
     "text": [
      "100%|██████████| 89281/89281 [00:02<00:00, 31299.45it/s]\n"
     ]
    },
    {
     "name": "stdout",
     "output_type": "stream",
     "text": [
      "processing /g/data/kl02/jss548/PST/disdrometer/MtView/2018_11_MtView.csv\n"
     ]
    },
    {
     "name": "stderr",
     "output_type": "stream",
     "text": [
      "100%|██████████| 83551/83551 [00:02<00:00, 31150.73it/s]\n"
     ]
    },
    {
     "name": "stdout",
     "output_type": "stream",
     "text": [
      "processing /g/data/kl02/jss548/PST/disdrometer/MtView/2018_12_MtView.csv\n"
     ]
    },
    {
     "name": "stderr",
     "output_type": "stream",
     "text": [
      "100%|██████████| 80027/80027 [00:02<00:00, 31307.26it/s]\n"
     ]
    },
    {
     "name": "stdout",
     "output_type": "stream",
     "text": [
      "processing /g/data/kl02/jss548/PST/disdrometer/MtView/2019_01_MtView.csv\n"
     ]
    },
    {
     "name": "stderr",
     "output_type": "stream",
     "text": [
      "100%|██████████| 67857/67857 [00:02<00:00, 32631.41it/s]\n"
     ]
    },
    {
     "name": "stdout",
     "output_type": "stream",
     "text": [
      "processing /g/data/kl02/jss548/PST/disdrometer/MtView/2019_02_MtView.csv\n"
     ]
    },
    {
     "name": "stderr",
     "output_type": "stream",
     "text": [
      "100%|██████████| 80641/80641 [00:02<00:00, 31208.54it/s]\n"
     ]
    },
    {
     "name": "stdout",
     "output_type": "stream",
     "text": [
      "processing /g/data/kl02/jss548/PST/disdrometer/MtView/2019_03_MtView.csv\n"
     ]
    },
    {
     "name": "stderr",
     "output_type": "stream",
     "text": [
      "100%|██████████| 74881/74881 [00:02<00:00, 31234.56it/s]\n"
     ]
    },
    {
     "name": "stdout",
     "output_type": "stream",
     "text": [
      "processing /g/data/kl02/jss548/PST/disdrometer/MtView/2019_04_MtView.csv\n"
     ]
    },
    {
     "name": "stderr",
     "output_type": "stream",
     "text": [
      "100%|██████████| 86401/86401 [00:02<00:00, 31559.52it/s]\n"
     ]
    },
    {
     "name": "stdout",
     "output_type": "stream",
     "text": [
      "processing /g/data/kl02/jss548/PST/disdrometer/MtView/2019_05_MtView.csv\n"
     ]
    },
    {
     "name": "stderr",
     "output_type": "stream",
     "text": [
      "100%|██████████| 89281/89281 [00:02<00:00, 31718.64it/s]\n"
     ]
    },
    {
     "name": "stdout",
     "output_type": "stream",
     "text": [
      "processing /g/data/kl02/jss548/PST/disdrometer/MtView/2019_06_MtView.csv\n"
     ]
    },
    {
     "name": "stderr",
     "output_type": "stream",
     "text": [
      "100%|██████████| 86401/86401 [00:02<00:00, 31607.46it/s]\n"
     ]
    },
    {
     "name": "stdout",
     "output_type": "stream",
     "text": [
      "processing /g/data/kl02/jss548/PST/disdrometer/MtView/2019_07_MtView.csv\n"
     ]
    },
    {
     "name": "stderr",
     "output_type": "stream",
     "text": [
      "100%|██████████| 89281/89281 [00:02<00:00, 31561.90it/s]\n"
     ]
    },
    {
     "name": "stdout",
     "output_type": "stream",
     "text": [
      "processing /g/data/kl02/jss548/PST/disdrometer/MtView/2019_08_MtView.csv\n"
     ]
    },
    {
     "name": "stderr",
     "output_type": "stream",
     "text": [
      "100%|██████████| 89281/89281 [00:02<00:00, 30903.17it/s]\n",
      " 10%|▉         | 3310/33268 [00:00<00:00, 33095.77it/s]"
     ]
    },
    {
     "name": "stdout",
     "output_type": "stream",
     "text": [
      "processing /g/data/kl02/jss548/PST/disdrometer/MtView/2019_09_MtView.csv\n"
     ]
    },
    {
     "name": "stderr",
     "output_type": "stream",
     "text": [
      "100%|██████████| 33268/33268 [00:01<00:00, 32533.36it/s]\n",
      "100%|██████████| 33267/33267 [00:02<00:00, 16051.61it/s]\n"
     ]
    },
    {
     "name": "stdout",
     "output_type": "stream",
     "text": [
      "processing /g/data/kl02/jss548/PST/disdrometer/MtView/2017_12_MtView.csv\n"
     ]
    },
    {
     "name": "stderr",
     "output_type": "stream",
     "text": [
      "100%|██████████| 81795/81795 [00:02<00:00, 31726.18it/s]\n"
     ]
    },
    {
     "name": "stdout",
     "output_type": "stream",
     "text": [
      "processing /g/data/kl02/jss548/PST/disdrometer/MtView/2018_01_MtView.csv\n"
     ]
    },
    {
     "name": "stderr",
     "output_type": "stream",
     "text": [
      "100%|██████████| 89281/89281 [00:02<00:00, 31719.34it/s]\n"
     ]
    },
    {
     "name": "stdout",
     "output_type": "stream",
     "text": [
      "processing /g/data/kl02/jss548/PST/disdrometer/MtView/2018_02_MtView.csv\n"
     ]
    },
    {
     "name": "stderr",
     "output_type": "stream",
     "text": [
      "100%|██████████| 80641/80641 [00:02<00:00, 32189.84it/s]\n"
     ]
    },
    {
     "name": "stdout",
     "output_type": "stream",
     "text": [
      "processing /g/data/kl02/jss548/PST/disdrometer/MtView/2018_03_MtView.csv\n"
     ]
    },
    {
     "name": "stderr",
     "output_type": "stream",
     "text": [
      "100%|██████████| 89281/89281 [00:02<00:00, 32190.05it/s]\n"
     ]
    },
    {
     "name": "stdout",
     "output_type": "stream",
     "text": [
      "processing /g/data/kl02/jss548/PST/disdrometer/MtView/2018_04_MtView.csv\n"
     ]
    },
    {
     "name": "stderr",
     "output_type": "stream",
     "text": [
      "100%|██████████| 86401/86401 [00:02<00:00, 32058.37it/s]\n"
     ]
    },
    {
     "name": "stdout",
     "output_type": "stream",
     "text": [
      "processing /g/data/kl02/jss548/PST/disdrometer/MtView/2018_05_MtView.csv\n"
     ]
    },
    {
     "name": "stderr",
     "output_type": "stream",
     "text": [
      "100%|██████████| 89281/89281 [00:02<00:00, 32053.51it/s]\n"
     ]
    },
    {
     "name": "stdout",
     "output_type": "stream",
     "text": [
      "processing /g/data/kl02/jss548/PST/disdrometer/MtView/2018_06_MtView.csv\n"
     ]
    },
    {
     "name": "stderr",
     "output_type": "stream",
     "text": [
      "100%|██████████| 74491/74491 [00:02<00:00, 30413.07it/s]\n"
     ]
    },
    {
     "name": "stdout",
     "output_type": "stream",
     "text": [
      "processing /g/data/kl02/jss548/PST/disdrometer/MtView/2018_07_MtView.csv\n"
     ]
    },
    {
     "name": "stderr",
     "output_type": "stream",
     "text": [
      "100%|██████████| 89281/89281 [00:02<00:00, 32084.18it/s]\n"
     ]
    },
    {
     "name": "stdout",
     "output_type": "stream",
     "text": [
      "processing /g/data/kl02/jss548/PST/disdrometer/MtView/2018_08_MtView.csv\n"
     ]
    },
    {
     "name": "stderr",
     "output_type": "stream",
     "text": [
      "100%|██████████| 89281/89281 [00:02<00:00, 31881.64it/s]\n"
     ]
    },
    {
     "name": "stdout",
     "output_type": "stream",
     "text": [
      "processing /g/data/kl02/jss548/PST/disdrometer/MtView/2018_09_MtView.csv\n"
     ]
    },
    {
     "name": "stderr",
     "output_type": "stream",
     "text": [
      "100%|██████████| 86401/86401 [00:02<00:00, 31941.90it/s]\n"
     ]
    },
    {
     "name": "stdout",
     "output_type": "stream",
     "text": [
      "processing /g/data/kl02/jss548/PST/disdrometer/MtView/2018_10_MtView.csv\n"
     ]
    },
    {
     "name": "stderr",
     "output_type": "stream",
     "text": [
      "100%|██████████| 89281/89281 [00:02<00:00, 31955.08it/s]\n"
     ]
    },
    {
     "name": "stdout",
     "output_type": "stream",
     "text": [
      "processing /g/data/kl02/jss548/PST/disdrometer/MtView/2018_11_MtView.csv\n"
     ]
    },
    {
     "name": "stderr",
     "output_type": "stream",
     "text": [
      "100%|██████████| 83551/83551 [00:02<00:00, 31606.08it/s]\n"
     ]
    },
    {
     "name": "stdout",
     "output_type": "stream",
     "text": [
      "processing /g/data/kl02/jss548/PST/disdrometer/MtView/2018_12_MtView.csv\n"
     ]
    },
    {
     "name": "stderr",
     "output_type": "stream",
     "text": [
      "100%|██████████| 80027/80027 [00:02<00:00, 31844.99it/s]\n"
     ]
    },
    {
     "name": "stdout",
     "output_type": "stream",
     "text": [
      "processing /g/data/kl02/jss548/PST/disdrometer/MtView/2019_01_MtView.csv\n"
     ]
    },
    {
     "name": "stderr",
     "output_type": "stream",
     "text": [
      "100%|██████████| 67857/67857 [00:02<00:00, 31489.88it/s]\n"
     ]
    },
    {
     "name": "stdout",
     "output_type": "stream",
     "text": [
      "processing /g/data/kl02/jss548/PST/disdrometer/MtView/2019_02_MtView.csv\n"
     ]
    },
    {
     "name": "stderr",
     "output_type": "stream",
     "text": [
      "100%|██████████| 80641/80641 [00:02<00:00, 31531.16it/s]\n"
     ]
    },
    {
     "name": "stdout",
     "output_type": "stream",
     "text": [
      "processing /g/data/kl02/jss548/PST/disdrometer/MtView/2019_03_MtView.csv\n"
     ]
    },
    {
     "name": "stderr",
     "output_type": "stream",
     "text": [
      "100%|██████████| 74881/74881 [00:02<00:00, 32994.83it/s]\n"
     ]
    },
    {
     "name": "stdout",
     "output_type": "stream",
     "text": [
      "processing /g/data/kl02/jss548/PST/disdrometer/MtView/2019_04_MtView.csv\n"
     ]
    },
    {
     "name": "stderr",
     "output_type": "stream",
     "text": [
      "100%|██████████| 86401/86401 [00:02<00:00, 31753.07it/s]\n"
     ]
    },
    {
     "name": "stdout",
     "output_type": "stream",
     "text": [
      "processing /g/data/kl02/jss548/PST/disdrometer/MtView/2019_05_MtView.csv\n"
     ]
    },
    {
     "name": "stderr",
     "output_type": "stream",
     "text": [
      "100%|██████████| 89281/89281 [00:02<00:00, 31888.53it/s]\n"
     ]
    },
    {
     "name": "stdout",
     "output_type": "stream",
     "text": [
      "processing /g/data/kl02/jss548/PST/disdrometer/MtView/2019_06_MtView.csv\n"
     ]
    },
    {
     "name": "stderr",
     "output_type": "stream",
     "text": [
      "100%|██████████| 86401/86401 [00:02<00:00, 31443.45it/s]\n"
     ]
    },
    {
     "name": "stdout",
     "output_type": "stream",
     "text": [
      "processing /g/data/kl02/jss548/PST/disdrometer/MtView/2019_07_MtView.csv\n"
     ]
    },
    {
     "name": "stderr",
     "output_type": "stream",
     "text": [
      "100%|██████████| 89281/89281 [00:02<00:00, 31572.29it/s]\n"
     ]
    },
    {
     "name": "stdout",
     "output_type": "stream",
     "text": [
      "processing /g/data/kl02/jss548/PST/disdrometer/MtView/2019_08_MtView.csv\n"
     ]
    },
    {
     "name": "stderr",
     "output_type": "stream",
     "text": [
      "100%|██████████| 89281/89281 [00:02<00:00, 31753.13it/s]\n",
      " 10%|▉         | 3312/33268 [00:00<00:00, 33115.93it/s]"
     ]
    },
    {
     "name": "stdout",
     "output_type": "stream",
     "text": [
      "processing /g/data/kl02/jss548/PST/disdrometer/MtView/2019_09_MtView.csv\n"
     ]
    },
    {
     "name": "stderr",
     "output_type": "stream",
     "text": [
      "100%|██████████| 33268/33268 [00:01<00:00, 32839.46it/s]\n",
      "100%|██████████| 33267/33267 [00:02<00:00, 16252.00it/s]\n"
     ]
    },
    {
     "name": "stdout",
     "output_type": "stream",
     "text": [
      "processing /g/data/kl02/jss548/PST/disdrometer/MtView/2017_12_MtView.csv\n"
     ]
    },
    {
     "name": "stderr",
     "output_type": "stream",
     "text": [
      "100%|██████████| 81795/81795 [00:02<00:00, 31961.60it/s]\n"
     ]
    },
    {
     "name": "stdout",
     "output_type": "stream",
     "text": [
      "processing /g/data/kl02/jss548/PST/disdrometer/MtView/2018_01_MtView.csv\n"
     ]
    },
    {
     "name": "stderr",
     "output_type": "stream",
     "text": [
      "100%|██████████| 89281/89281 [00:02<00:00, 31991.80it/s]\n"
     ]
    },
    {
     "name": "stdout",
     "output_type": "stream",
     "text": [
      "processing /g/data/kl02/jss548/PST/disdrometer/MtView/2018_02_MtView.csv\n"
     ]
    },
    {
     "name": "stderr",
     "output_type": "stream",
     "text": [
      "100%|██████████| 80641/80641 [00:02<00:00, 32313.16it/s]\n"
     ]
    },
    {
     "name": "stdout",
     "output_type": "stream",
     "text": [
      "processing /g/data/kl02/jss548/PST/disdrometer/MtView/2018_03_MtView.csv\n"
     ]
    },
    {
     "name": "stderr",
     "output_type": "stream",
     "text": [
      "100%|██████████| 89281/89281 [00:02<00:00, 32367.86it/s]\n"
     ]
    },
    {
     "name": "stdout",
     "output_type": "stream",
     "text": [
      "processing /g/data/kl02/jss548/PST/disdrometer/MtView/2018_04_MtView.csv\n"
     ]
    },
    {
     "name": "stderr",
     "output_type": "stream",
     "text": [
      "100%|██████████| 86401/86401 [00:02<00:00, 32356.51it/s]\n"
     ]
    },
    {
     "name": "stdout",
     "output_type": "stream",
     "text": [
      "processing /g/data/kl02/jss548/PST/disdrometer/MtView/2018_05_MtView.csv\n"
     ]
    },
    {
     "name": "stderr",
     "output_type": "stream",
     "text": [
      "100%|██████████| 89281/89281 [00:02<00:00, 32464.89it/s]\n"
     ]
    },
    {
     "name": "stdout",
     "output_type": "stream",
     "text": [
      "processing /g/data/kl02/jss548/PST/disdrometer/MtView/2018_06_MtView.csv\n"
     ]
    },
    {
     "name": "stderr",
     "output_type": "stream",
     "text": [
      "100%|██████████| 74491/74491 [00:02<00:00, 28968.77it/s]\n"
     ]
    },
    {
     "name": "stdout",
     "output_type": "stream",
     "text": [
      "processing /g/data/kl02/jss548/PST/disdrometer/MtView/2018_07_MtView.csv\n"
     ]
    },
    {
     "name": "stderr",
     "output_type": "stream",
     "text": [
      "100%|██████████| 89281/89281 [00:02<00:00, 31728.15it/s]\n"
     ]
    },
    {
     "name": "stdout",
     "output_type": "stream",
     "text": [
      "processing /g/data/kl02/jss548/PST/disdrometer/MtView/2018_08_MtView.csv\n"
     ]
    },
    {
     "name": "stderr",
     "output_type": "stream",
     "text": [
      "100%|██████████| 89281/89281 [00:02<00:00, 31630.32it/s]\n"
     ]
    },
    {
     "name": "stdout",
     "output_type": "stream",
     "text": [
      "processing /g/data/kl02/jss548/PST/disdrometer/MtView/2018_09_MtView.csv\n"
     ]
    },
    {
     "name": "stderr",
     "output_type": "stream",
     "text": [
      "100%|██████████| 86401/86401 [00:02<00:00, 31618.70it/s]\n"
     ]
    },
    {
     "name": "stdout",
     "output_type": "stream",
     "text": [
      "processing /g/data/kl02/jss548/PST/disdrometer/MtView/2018_10_MtView.csv\n"
     ]
    },
    {
     "name": "stderr",
     "output_type": "stream",
     "text": [
      "100%|██████████| 89281/89281 [00:02<00:00, 31592.90it/s]\n"
     ]
    },
    {
     "name": "stdout",
     "output_type": "stream",
     "text": [
      "processing /g/data/kl02/jss548/PST/disdrometer/MtView/2018_11_MtView.csv\n"
     ]
    },
    {
     "name": "stderr",
     "output_type": "stream",
     "text": [
      "100%|██████████| 83551/83551 [00:02<00:00, 32502.07it/s]\n"
     ]
    },
    {
     "name": "stdout",
     "output_type": "stream",
     "text": [
      "processing /g/data/kl02/jss548/PST/disdrometer/MtView/2018_12_MtView.csv\n"
     ]
    },
    {
     "name": "stderr",
     "output_type": "stream",
     "text": [
      "100%|██████████| 80027/80027 [00:02<00:00, 32061.48it/s]\n",
      "  5%|▍         | 3342/67857 [00:00<00:01, 33417.08it/s]"
     ]
    },
    {
     "name": "stdout",
     "output_type": "stream",
     "text": [
      "processing /g/data/kl02/jss548/PST/disdrometer/MtView/2019_01_MtView.csv\n"
     ]
    },
    {
     "name": "stderr",
     "output_type": "stream",
     "text": [
      "100%|██████████| 67857/67857 [00:02<00:00, 31654.21it/s]\n"
     ]
    },
    {
     "name": "stdout",
     "output_type": "stream",
     "text": [
      "processing /g/data/kl02/jss548/PST/disdrometer/MtView/2019_02_MtView.csv\n"
     ]
    },
    {
     "name": "stderr",
     "output_type": "stream",
     "text": [
      "100%|██████████| 80641/80641 [00:02<00:00, 31626.24it/s]\n"
     ]
    },
    {
     "name": "stdout",
     "output_type": "stream",
     "text": [
      "processing /g/data/kl02/jss548/PST/disdrometer/MtView/2019_03_MtView.csv\n"
     ]
    },
    {
     "name": "stderr",
     "output_type": "stream",
     "text": [
      "100%|██████████| 74881/74881 [00:02<00:00, 31562.53it/s]\n"
     ]
    },
    {
     "name": "stdout",
     "output_type": "stream",
     "text": [
      "processing /g/data/kl02/jss548/PST/disdrometer/MtView/2019_04_MtView.csv\n"
     ]
    },
    {
     "name": "stderr",
     "output_type": "stream",
     "text": [
      "100%|██████████| 86401/86401 [00:02<00:00, 31248.92it/s]\n"
     ]
    },
    {
     "name": "stdout",
     "output_type": "stream",
     "text": [
      "processing /g/data/kl02/jss548/PST/disdrometer/MtView/2019_05_MtView.csv\n"
     ]
    },
    {
     "name": "stderr",
     "output_type": "stream",
     "text": [
      "100%|██████████| 89281/89281 [00:02<00:00, 30813.67it/s]\n"
     ]
    },
    {
     "name": "stdout",
     "output_type": "stream",
     "text": [
      "processing /g/data/kl02/jss548/PST/disdrometer/MtView/2019_06_MtView.csv\n"
     ]
    },
    {
     "name": "stderr",
     "output_type": "stream",
     "text": [
      "100%|██████████| 86401/86401 [00:02<00:00, 32713.33it/s]\n"
     ]
    },
    {
     "name": "stdout",
     "output_type": "stream",
     "text": [
      "processing /g/data/kl02/jss548/PST/disdrometer/MtView/2019_07_MtView.csv\n"
     ]
    },
    {
     "name": "stderr",
     "output_type": "stream",
     "text": [
      "100%|██████████| 89281/89281 [00:02<00:00, 31927.34it/s]\n"
     ]
    },
    {
     "name": "stdout",
     "output_type": "stream",
     "text": [
      "processing /g/data/kl02/jss548/PST/disdrometer/MtView/2019_08_MtView.csv\n"
     ]
    },
    {
     "name": "stderr",
     "output_type": "stream",
     "text": [
      "100%|██████████| 89281/89281 [00:02<00:00, 31939.95it/s]\n",
      " 10%|▉         | 3319/33268 [00:00<00:00, 33186.71it/s]"
     ]
    },
    {
     "name": "stdout",
     "output_type": "stream",
     "text": [
      "processing /g/data/kl02/jss548/PST/disdrometer/MtView/2019_09_MtView.csv\n"
     ]
    },
    {
     "name": "stderr",
     "output_type": "stream",
     "text": [
      "100%|██████████| 33268/33268 [00:01<00:00, 30450.21it/s]\n",
      "100%|██████████| 33267/33267 [00:02<00:00, 16454.77it/s]\n"
     ]
    },
    {
     "name": "stdout",
     "output_type": "stream",
     "text": [
      "processing /g/data/kl02/jss548/PST/disdrometer/MtView/2017_12_MtView.csv\n"
     ]
    },
    {
     "name": "stderr",
     "output_type": "stream",
     "text": [
      "100%|██████████| 81795/81795 [00:02<00:00, 31034.48it/s]\n"
     ]
    },
    {
     "name": "stdout",
     "output_type": "stream",
     "text": [
      "processing /g/data/kl02/jss548/PST/disdrometer/MtView/2018_01_MtView.csv\n"
     ]
    },
    {
     "name": "stderr",
     "output_type": "stream",
     "text": [
      "100%|██████████| 89281/89281 [00:02<00:00, 31366.16it/s]\n"
     ]
    },
    {
     "name": "stdout",
     "output_type": "stream",
     "text": [
      "processing /g/data/kl02/jss548/PST/disdrometer/MtView/2018_02_MtView.csv\n"
     ]
    },
    {
     "name": "stderr",
     "output_type": "stream",
     "text": [
      "100%|██████████| 80641/80641 [00:02<00:00, 33106.41it/s]\n"
     ]
    },
    {
     "name": "stdout",
     "output_type": "stream",
     "text": [
      "processing /g/data/kl02/jss548/PST/disdrometer/MtView/2018_03_MtView.csv\n"
     ]
    },
    {
     "name": "stderr",
     "output_type": "stream",
     "text": [
      "100%|██████████| 89281/89281 [00:02<00:00, 32229.88it/s]\n"
     ]
    },
    {
     "name": "stdout",
     "output_type": "stream",
     "text": [
      "processing /g/data/kl02/jss548/PST/disdrometer/MtView/2018_04_MtView.csv\n"
     ]
    },
    {
     "name": "stderr",
     "output_type": "stream",
     "text": [
      "100%|██████████| 86401/86401 [00:02<00:00, 32247.92it/s]\n"
     ]
    },
    {
     "name": "stdout",
     "output_type": "stream",
     "text": [
      "processing /g/data/kl02/jss548/PST/disdrometer/MtView/2018_05_MtView.csv\n"
     ]
    },
    {
     "name": "stderr",
     "output_type": "stream",
     "text": [
      "100%|██████████| 89281/89281 [00:02<00:00, 32060.82it/s]\n"
     ]
    },
    {
     "name": "stdout",
     "output_type": "stream",
     "text": [
      "processing /g/data/kl02/jss548/PST/disdrometer/MtView/2018_06_MtView.csv\n"
     ]
    },
    {
     "name": "stderr",
     "output_type": "stream",
     "text": [
      "100%|██████████| 74491/74491 [00:02<00:00, 29050.57it/s]\n"
     ]
    },
    {
     "name": "stdout",
     "output_type": "stream",
     "text": [
      "processing /g/data/kl02/jss548/PST/disdrometer/MtView/2018_07_MtView.csv\n"
     ]
    },
    {
     "name": "stderr",
     "output_type": "stream",
     "text": [
      "100%|██████████| 89281/89281 [00:02<00:00, 31484.31it/s]\n"
     ]
    },
    {
     "name": "stdout",
     "output_type": "stream",
     "text": [
      "processing /g/data/kl02/jss548/PST/disdrometer/MtView/2018_08_MtView.csv\n"
     ]
    },
    {
     "name": "stderr",
     "output_type": "stream",
     "text": [
      "100%|██████████| 89281/89281 [00:02<00:00, 31540.69it/s]\n"
     ]
    },
    {
     "name": "stdout",
     "output_type": "stream",
     "text": [
      "processing /g/data/kl02/jss548/PST/disdrometer/MtView/2018_09_MtView.csv\n"
     ]
    },
    {
     "name": "stderr",
     "output_type": "stream",
     "text": [
      "100%|██████████| 86401/86401 [00:02<00:00, 31480.39it/s]\n"
     ]
    },
    {
     "name": "stdout",
     "output_type": "stream",
     "text": [
      "processing /g/data/kl02/jss548/PST/disdrometer/MtView/2018_10_MtView.csv\n"
     ]
    },
    {
     "name": "stderr",
     "output_type": "stream",
     "text": [
      "100%|██████████| 89281/89281 [00:02<00:00, 31425.98it/s]\n"
     ]
    },
    {
     "name": "stdout",
     "output_type": "stream",
     "text": [
      "processing /g/data/kl02/jss548/PST/disdrometer/MtView/2018_11_MtView.csv\n"
     ]
    },
    {
     "name": "stderr",
     "output_type": "stream",
     "text": [
      "100%|██████████| 83551/83551 [00:02<00:00, 31285.30it/s]\n"
     ]
    },
    {
     "name": "stdout",
     "output_type": "stream",
     "text": [
      "processing /g/data/kl02/jss548/PST/disdrometer/MtView/2018_12_MtView.csv\n"
     ]
    },
    {
     "name": "stderr",
     "output_type": "stream",
     "text": [
      "100%|██████████| 80027/80027 [00:02<00:00, 31274.93it/s]\n"
     ]
    },
    {
     "name": "stdout",
     "output_type": "stream",
     "text": [
      "processing /g/data/kl02/jss548/PST/disdrometer/MtView/2019_01_MtView.csv\n"
     ]
    },
    {
     "name": "stderr",
     "output_type": "stream",
     "text": [
      "100%|██████████| 67857/67857 [00:02<00:00, 32604.75it/s]\n"
     ]
    },
    {
     "name": "stdout",
     "output_type": "stream",
     "text": [
      "processing /g/data/kl02/jss548/PST/disdrometer/MtView/2019_02_MtView.csv\n"
     ]
    },
    {
     "name": "stderr",
     "output_type": "stream",
     "text": [
      "100%|██████████| 80641/80641 [00:02<00:00, 31508.38it/s]\n"
     ]
    },
    {
     "name": "stdout",
     "output_type": "stream",
     "text": [
      "processing /g/data/kl02/jss548/PST/disdrometer/MtView/2019_03_MtView.csv\n"
     ]
    },
    {
     "name": "stderr",
     "output_type": "stream",
     "text": [
      "100%|██████████| 74881/74881 [00:02<00:00, 30480.11it/s]\n"
     ]
    },
    {
     "name": "stdout",
     "output_type": "stream",
     "text": [
      "processing /g/data/kl02/jss548/PST/disdrometer/MtView/2019_04_MtView.csv\n"
     ]
    },
    {
     "name": "stderr",
     "output_type": "stream",
     "text": [
      "100%|██████████| 86401/86401 [00:02<00:00, 31306.73it/s]\n"
     ]
    },
    {
     "name": "stdout",
     "output_type": "stream",
     "text": [
      "processing /g/data/kl02/jss548/PST/disdrometer/MtView/2019_05_MtView.csv\n"
     ]
    },
    {
     "name": "stderr",
     "output_type": "stream",
     "text": [
      "100%|██████████| 89281/89281 [00:02<00:00, 31371.96it/s]\n"
     ]
    },
    {
     "name": "stdout",
     "output_type": "stream",
     "text": [
      "processing /g/data/kl02/jss548/PST/disdrometer/MtView/2019_06_MtView.csv\n"
     ]
    },
    {
     "name": "stderr",
     "output_type": "stream",
     "text": [
      "100%|██████████| 86401/86401 [00:02<00:00, 31395.45it/s]\n"
     ]
    },
    {
     "name": "stdout",
     "output_type": "stream",
     "text": [
      "processing /g/data/kl02/jss548/PST/disdrometer/MtView/2019_07_MtView.csv\n"
     ]
    },
    {
     "name": "stderr",
     "output_type": "stream",
     "text": [
      "100%|██████████| 89281/89281 [00:02<00:00, 31402.91it/s]\n"
     ]
    },
    {
     "name": "stdout",
     "output_type": "stream",
     "text": [
      "processing /g/data/kl02/jss548/PST/disdrometer/MtView/2019_08_MtView.csv\n"
     ]
    },
    {
     "name": "stderr",
     "output_type": "stream",
     "text": [
      "100%|██████████| 89281/89281 [00:02<00:00, 31257.71it/s]\n",
      " 10%|▉         | 3295/33268 [00:00<00:00, 32942.65it/s]"
     ]
    },
    {
     "name": "stdout",
     "output_type": "stream",
     "text": [
      "processing /g/data/kl02/jss548/PST/disdrometer/MtView/2019_09_MtView.csv\n"
     ]
    },
    {
     "name": "stderr",
     "output_type": "stream",
     "text": [
      "100%|██████████| 33268/33268 [00:01<00:00, 32284.89it/s]\n",
      "100%|██████████| 33267/33267 [00:02<00:00, 15795.46it/s]\n"
     ]
    },
    {
     "name": "stdout",
     "output_type": "stream",
     "text": [
      "processing /g/data/kl02/jss548/PST/disdrometer/MtView/2017_12_MtView.csv\n"
     ]
    },
    {
     "name": "stderr",
     "output_type": "stream",
     "text": [
      "100%|██████████| 81795/81795 [00:02<00:00, 31587.28it/s]\n"
     ]
    },
    {
     "name": "stdout",
     "output_type": "stream",
     "text": [
      "processing /g/data/kl02/jss548/PST/disdrometer/MtView/2018_01_MtView.csv\n"
     ]
    },
    {
     "name": "stderr",
     "output_type": "stream",
     "text": [
      "100%|██████████| 89281/89281 [00:02<00:00, 31686.29it/s]\n"
     ]
    },
    {
     "name": "stdout",
     "output_type": "stream",
     "text": [
      "processing /g/data/kl02/jss548/PST/disdrometer/MtView/2018_02_MtView.csv\n"
     ]
    },
    {
     "name": "stderr",
     "output_type": "stream",
     "text": [
      "100%|██████████| 80641/80641 [00:02<00:00, 32071.08it/s]\n"
     ]
    },
    {
     "name": "stdout",
     "output_type": "stream",
     "text": [
      "processing /g/data/kl02/jss548/PST/disdrometer/MtView/2018_03_MtView.csv\n"
     ]
    },
    {
     "name": "stderr",
     "output_type": "stream",
     "text": [
      "100%|██████████| 89281/89281 [00:02<00:00, 32061.17it/s]\n"
     ]
    },
    {
     "name": "stdout",
     "output_type": "stream",
     "text": [
      "processing /g/data/kl02/jss548/PST/disdrometer/MtView/2018_04_MtView.csv\n"
     ]
    },
    {
     "name": "stderr",
     "output_type": "stream",
     "text": [
      "100%|██████████| 86401/86401 [00:02<00:00, 32245.00it/s]\n"
     ]
    },
    {
     "name": "stdout",
     "output_type": "stream",
     "text": [
      "processing /g/data/kl02/jss548/PST/disdrometer/MtView/2018_05_MtView.csv\n"
     ]
    },
    {
     "name": "stderr",
     "output_type": "stream",
     "text": [
      "100%|██████████| 89281/89281 [00:02<00:00, 32227.75it/s]\n"
     ]
    },
    {
     "name": "stdout",
     "output_type": "stream",
     "text": [
      "processing /g/data/kl02/jss548/PST/disdrometer/MtView/2018_06_MtView.csv\n"
     ]
    },
    {
     "name": "stderr",
     "output_type": "stream",
     "text": [
      "100%|██████████| 74491/74491 [00:02<00:00, 30450.32it/s]\n"
     ]
    },
    {
     "name": "stdout",
     "output_type": "stream",
     "text": [
      "processing /g/data/kl02/jss548/PST/disdrometer/MtView/2018_07_MtView.csv\n"
     ]
    },
    {
     "name": "stderr",
     "output_type": "stream",
     "text": [
      "100%|██████████| 89281/89281 [00:02<00:00, 32107.05it/s]\n"
     ]
    },
    {
     "name": "stdout",
     "output_type": "stream",
     "text": [
      "processing /g/data/kl02/jss548/PST/disdrometer/MtView/2018_08_MtView.csv\n"
     ]
    },
    {
     "name": "stderr",
     "output_type": "stream",
     "text": [
      "100%|██████████| 89281/89281 [00:02<00:00, 32016.31it/s]\n"
     ]
    },
    {
     "name": "stdout",
     "output_type": "stream",
     "text": [
      "processing /g/data/kl02/jss548/PST/disdrometer/MtView/2018_09_MtView.csv\n"
     ]
    },
    {
     "name": "stderr",
     "output_type": "stream",
     "text": [
      "100%|██████████| 86401/86401 [00:02<00:00, 31872.76it/s]\n"
     ]
    },
    {
     "name": "stdout",
     "output_type": "stream",
     "text": [
      "processing /g/data/kl02/jss548/PST/disdrometer/MtView/2018_10_MtView.csv\n"
     ]
    },
    {
     "name": "stderr",
     "output_type": "stream",
     "text": [
      "100%|██████████| 89281/89281 [00:02<00:00, 32033.61it/s]\n"
     ]
    },
    {
     "name": "stdout",
     "output_type": "stream",
     "text": [
      "processing /g/data/kl02/jss548/PST/disdrometer/MtView/2018_11_MtView.csv\n"
     ]
    },
    {
     "name": "stderr",
     "output_type": "stream",
     "text": [
      "100%|██████████| 83551/83551 [00:02<00:00, 31419.39it/s]\n"
     ]
    },
    {
     "name": "stdout",
     "output_type": "stream",
     "text": [
      "processing /g/data/kl02/jss548/PST/disdrometer/MtView/2018_12_MtView.csv\n"
     ]
    },
    {
     "name": "stderr",
     "output_type": "stream",
     "text": [
      "100%|██████████| 80027/80027 [00:02<00:00, 31726.95it/s]\n",
      "  0%|          | 0/67857 [00:00<?, ?it/s]"
     ]
    },
    {
     "name": "stdout",
     "output_type": "stream",
     "text": [
      "processing /g/data/kl02/jss548/PST/disdrometer/MtView/2019_01_MtView.csv\n"
     ]
    },
    {
     "name": "stderr",
     "output_type": "stream",
     "text": [
      "100%|██████████| 67857/67857 [00:02<00:00, 30496.11it/s]\n"
     ]
    },
    {
     "name": "stdout",
     "output_type": "stream",
     "text": [
      "processing /g/data/kl02/jss548/PST/disdrometer/MtView/2019_02_MtView.csv\n"
     ]
    },
    {
     "name": "stderr",
     "output_type": "stream",
     "text": [
      "100%|██████████| 80641/80641 [00:02<00:00, 31360.03it/s]\n"
     ]
    },
    {
     "name": "stdout",
     "output_type": "stream",
     "text": [
      "processing /g/data/kl02/jss548/PST/disdrometer/MtView/2019_03_MtView.csv\n"
     ]
    },
    {
     "name": "stderr",
     "output_type": "stream",
     "text": [
      "100%|██████████| 74881/74881 [00:02<00:00, 32824.66it/s]\n"
     ]
    },
    {
     "name": "stdout",
     "output_type": "stream",
     "text": [
      "processing /g/data/kl02/jss548/PST/disdrometer/MtView/2019_04_MtView.csv\n"
     ]
    },
    {
     "name": "stderr",
     "output_type": "stream",
     "text": [
      "100%|██████████| 86401/86401 [00:02<00:00, 31625.32it/s]\n"
     ]
    },
    {
     "name": "stdout",
     "output_type": "stream",
     "text": [
      "processing /g/data/kl02/jss548/PST/disdrometer/MtView/2019_05_MtView.csv\n"
     ]
    },
    {
     "name": "stderr",
     "output_type": "stream",
     "text": [
      "100%|██████████| 89281/89281 [00:02<00:00, 31921.03it/s]\n"
     ]
    },
    {
     "name": "stdout",
     "output_type": "stream",
     "text": [
      "processing /g/data/kl02/jss548/PST/disdrometer/MtView/2019_06_MtView.csv\n"
     ]
    },
    {
     "name": "stderr",
     "output_type": "stream",
     "text": [
      "100%|██████████| 86401/86401 [00:02<00:00, 31908.36it/s]\n"
     ]
    },
    {
     "name": "stdout",
     "output_type": "stream",
     "text": [
      "processing /g/data/kl02/jss548/PST/disdrometer/MtView/2019_07_MtView.csv\n"
     ]
    },
    {
     "name": "stderr",
     "output_type": "stream",
     "text": [
      "100%|██████████| 89281/89281 [00:02<00:00, 31831.54it/s]\n"
     ]
    },
    {
     "name": "stdout",
     "output_type": "stream",
     "text": [
      "processing /g/data/kl02/jss548/PST/disdrometer/MtView/2019_08_MtView.csv\n"
     ]
    },
    {
     "name": "stderr",
     "output_type": "stream",
     "text": [
      "100%|██████████| 89281/89281 [00:02<00:00, 31806.56it/s]\n",
      " 10%|█         | 3334/33268 [00:00<00:00, 33338.12it/s]"
     ]
    },
    {
     "name": "stdout",
     "output_type": "stream",
     "text": [
      "processing /g/data/kl02/jss548/PST/disdrometer/MtView/2019_09_MtView.csv\n"
     ]
    },
    {
     "name": "stderr",
     "output_type": "stream",
     "text": [
      "100%|██████████| 33268/33268 [00:01<00:00, 32701.87it/s]\n",
      "100%|██████████| 33267/33267 [00:02<00:00, 15898.78it/s]\n"
     ]
    },
    {
     "name": "stdout",
     "output_type": "stream",
     "text": [
      "processing /g/data/kl02/jss548/PST/disdrometer/MtView/2017_12_MtView.csv\n"
     ]
    },
    {
     "name": "stderr",
     "output_type": "stream",
     "text": [
      "100%|██████████| 81795/81795 [00:02<00:00, 31932.24it/s]\n"
     ]
    },
    {
     "name": "stdout",
     "output_type": "stream",
     "text": [
      "processing /g/data/kl02/jss548/PST/disdrometer/MtView/2018_01_MtView.csv\n"
     ]
    },
    {
     "name": "stderr",
     "output_type": "stream",
     "text": [
      "100%|██████████| 89281/89281 [00:02<00:00, 31896.18it/s]\n"
     ]
    },
    {
     "name": "stdout",
     "output_type": "stream",
     "text": [
      "processing /g/data/kl02/jss548/PST/disdrometer/MtView/2018_02_MtView.csv\n"
     ]
    },
    {
     "name": "stderr",
     "output_type": "stream",
     "text": [
      "100%|██████████| 80641/80641 [00:02<00:00, 32307.52it/s]\n"
     ]
    },
    {
     "name": "stdout",
     "output_type": "stream",
     "text": [
      "processing /g/data/kl02/jss548/PST/disdrometer/MtView/2018_03_MtView.csv\n"
     ]
    },
    {
     "name": "stderr",
     "output_type": "stream",
     "text": [
      "100%|██████████| 89281/89281 [00:02<00:00, 32533.71it/s]\n"
     ]
    },
    {
     "name": "stdout",
     "output_type": "stream",
     "text": [
      "processing /g/data/kl02/jss548/PST/disdrometer/MtView/2018_04_MtView.csv\n"
     ]
    },
    {
     "name": "stderr",
     "output_type": "stream",
     "text": [
      "100%|██████████| 86401/86401 [00:02<00:00, 32629.66it/s]\n"
     ]
    },
    {
     "name": "stdout",
     "output_type": "stream",
     "text": [
      "processing /g/data/kl02/jss548/PST/disdrometer/MtView/2018_05_MtView.csv\n"
     ]
    },
    {
     "name": "stderr",
     "output_type": "stream",
     "text": [
      "100%|██████████| 89281/89281 [00:02<00:00, 32558.19it/s]\n"
     ]
    },
    {
     "name": "stdout",
     "output_type": "stream",
     "text": [
      "processing /g/data/kl02/jss548/PST/disdrometer/MtView/2018_06_MtView.csv\n"
     ]
    },
    {
     "name": "stderr",
     "output_type": "stream",
     "text": [
      "100%|██████████| 74491/74491 [00:02<00:00, 29304.84it/s]\n"
     ]
    },
    {
     "name": "stdout",
     "output_type": "stream",
     "text": [
      "processing /g/data/kl02/jss548/PST/disdrometer/MtView/2018_07_MtView.csv\n"
     ]
    },
    {
     "name": "stderr",
     "output_type": "stream",
     "text": [
      "100%|██████████| 89281/89281 [00:02<00:00, 31768.26it/s]\n"
     ]
    },
    {
     "name": "stdout",
     "output_type": "stream",
     "text": [
      "processing /g/data/kl02/jss548/PST/disdrometer/MtView/2018_08_MtView.csv\n"
     ]
    },
    {
     "name": "stderr",
     "output_type": "stream",
     "text": [
      " 15%|█▍        | 13213/89281 [00:00<00:02, 33135.28it/s]"
     ]
    }
   ],
   "source": [
    "#init lists\n",
    "DBZ_total = []\n",
    "ZDR_total = []\n",
    "KDP_total = []\n",
    "ATTEN_total = []\n",
    "TIME_total = []\n",
    "RAIN_total = []\n",
    "\n",
    "for infile in file_list:\n",
    "    #load file and run pytmatrix\n",
    "    DBZ_out, ZDR_out, KDP_out, ATTEN_out, TIME_out, RAIN_out = mtview_disdro_to_radar_moments(infile)\n",
    "    DBZ_total.extend(DBZ_out)\n",
    "    ZDR_total.extend(ZDR_out)\n",
    "    KDP_total.extend(KDP_out)\n",
    "    ATTEN_total.extend(ATTEN_out)\n",
    "    TIME_total.extend(TIME_out)\n",
    "    RAIN_total.extend(RAIN_out)\n",
    "    \n",
    "dbz_array = np.array(DBZ_total)\n",
    "zdr_array = np.array(ZDR_total)\n",
    "kdp_array = np.array(KDP_total)\n",
    "att_array = np.array(ATTEN_total)\n",
    "time_array = np.array(TIME_total)\n",
    "rain_array = np.array(RAIN_total)\n",
    "\n",
    "zdr_db_array = 10*np.log10(zdr_array)\n"
   ]
  },
  {
   "cell_type": "code",
   "execution_count": null,
   "metadata": {},
   "outputs": [],
   "source": [
    "#convert zdr to log space\n",
    "dbz_mask1 = np.logical_or(np.isinf(dbz_array), np.isnan(dbz_array))\n",
    "dbz_mask2 = np.logical_or(dbz_array<-25, dbz_array>65)\n",
    "dbz_mask = np.logical_or(dbz_mask1, dbz_mask2)\n",
    "\n",
    "dbz_array_filt = dbz_array[~dbz_mask]\n",
    "rain_array_filt = rain_array[~dbz_mask]\n",
    "zdr_array_filt = zdr_array[~dbz_mask]\n",
    "kdp_array_filt = kdp_array[~dbz_mask]\n",
    "att_array_filt = att_array[~dbz_mask]\n",
    "time_array_filt = time_array[~dbz_mask]\n",
    "\n",
    "zdr_db_array_filt = 10*np.log10(zdr_array_filt)"
   ]
  },
  {
   "cell_type": "code",
   "execution_count": null,
   "metadata": {},
   "outputs": [],
   "source": [
    "np.savez(f'pytmatrix_out/mtview_radarsim_{band}_{cant}deg_{temperature}C.npz', dbz_array=dbz_array_filt, rain_array=rain_array_filt, zdr_db_array=zdr_db_array_filt, kdp_array=kdp_array_filt, att_array=att_array_filt, time_array = time_array_filt)"
   ]
  },
  {
   "cell_type": "code",
   "execution_count": null,
   "metadata": {},
   "outputs": [],
   "source": []
  }
 ],
 "metadata": {
  "kernelspec": {
   "display_name": "Python 3",
   "language": "python",
   "name": "python3"
  },
  "language_info": {
   "codemirror_mode": {
    "name": "ipython",
    "version": 3
   },
   "file_extension": ".py",
   "mimetype": "text/x-python",
   "name": "python",
   "nbconvert_exporter": "python",
   "pygments_lexer": "ipython3",
   "version": "3.8.2"
  }
 },
 "nbformat": 4,
 "nbformat_minor": 4
}
