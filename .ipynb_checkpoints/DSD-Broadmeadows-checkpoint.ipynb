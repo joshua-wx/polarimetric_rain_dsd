{
 "cells": [
  {
   "cell_type": "code",
   "execution_count": 8,
   "metadata": {},
   "outputs": [],
   "source": [
    "import os\n",
    "from glob import glob\n",
    "from datetime import datetime\n",
    "\n",
    "from scipy import interpolate\n",
    "from pytmatrix import orientation, radar, tmatrix_aux, refractive\n",
    "from pytmatrix.psd import PSDIntegrator, GammaPSD\n",
    "from pytmatrix.tmatrix import TMatrix, Scatterer\n",
    "from pytmatrix.tmatrix_psd import TMatrixPSD, GammaPSD\n",
    "\n",
    "import numpy as np\n",
    "import pandas as pd\n",
    "import matplotlib.pyplot as pl\n",
    "from sklearn.linear_model import LinearRegression\n",
    "from scipy.optimize import curve_fit\n",
    "from tqdm import tqdm\n",
    "\n",
    "import common"
   ]
  },
  {
   "cell_type": "code",
   "execution_count": 9,
   "metadata": {},
   "outputs": [],
   "source": [
    "file_list = sorted(glob('/g/data/kl02/jss548/PST/disdrometer/Broadmeadows/*.csv'))\n"
   ]
  },
  {
   "cell_type": "code",
   "execution_count": 10,
   "metadata": {},
   "outputs": [],
   "source": [
    "def broadmeadows_disdro_to_radar_moments(infile):\n",
    "    \n",
    "    #init\n",
    "    empty_value = -9.999\n",
    "    mean_diam_drop_class = np.array([0.062, 0.187, 0.312, 0.437, 0.562, 0.687, 0.812, \n",
    "                                      0.937, 1.062, 1.187, 1.375, 1.625, 1.875, 2.125,\n",
    "                                      2.375, 2.75, 3.25, 3.75, 4.25, 4.75, 5.5, 6.5, \n",
    "                                      7.5, 8.5, 9.5, 11, 13, 15, 17, 19, 21.5, 24.5])\n",
    "    \n",
    "    #init lists\n",
    "    DBZ_list = []\n",
    "    ZDR_list = []\n",
    "    KDP_list = []\n",
    "    ATTEN_list = []\n",
    "    RAIN_list = []\n",
    "    TIME_list = []\n",
    "    \n",
    "    #parse all text files\n",
    "    data_line_len = 50\n",
    "    dsd_dictlist = []\n",
    "    print('processing', infile)\n",
    "    #init lists\n",
    "    dt_list = []\n",
    "    nd_list = []\n",
    "    rr_list = []\n",
    "    #find total number of times\n",
    "    num_lines = sum(1 for line in open(infile,'r'))\n",
    "    #read file\n",
    "    with open(infile) as f:\n",
    "        #for every line\n",
    "        for count, line in tqdm(enumerate(f), total = num_lines):\n",
    "            if count>0: # skip first line\n",
    "                #split line\n",
    "                data_read = line.split(',')\n",
    "                #only process data string lines\n",
    "                if len(data_read) >= 1000:\n",
    "                    #append to lists\n",
    "                    dt_list.append(datetime.strptime(data_read[0],'%Y-%m-%d %H:%M:%S'))\n",
    "                    nd_list.append(list(map(float,data_read[11:43]))) #Field N(d) 90\n",
    "                    rr_list.append(float(data_read[1]))\n",
    "                else:\n",
    "                    #catch short lists\n",
    "                    print('error', data_read)\n",
    "                    break\n",
    "                        \n",
    "    for i, nd in tqdm(enumerate(nd_list), total=len(nd_list)):\n",
    "        #convert list to array\n",
    "        nd_array = np.array(nd)\n",
    "        #replace empty value with zeros\n",
    "        nd_array[nd_array==empty_value] = 0\n",
    "        #skip when no data is present\n",
    "        if np.sum(nd_array) == 0:\n",
    "            continue\n",
    "\n",
    "        #calc radar moments\n",
    "        normal_nd_array = nd_array/np.gradient(mean_diam_drop_class)\n",
    "        dbz, zdr, kdp, atten_spec = common.scatter_off_2dvd_packed(mean_diam_drop_class, normal_nd_array, scatterer)\n",
    "\n",
    "        #append outputs\n",
    "        DBZ_list.append(dbz)\n",
    "        ZDR_list.append(zdr)\n",
    "        KDP_list.append(kdp)\n",
    "        ATTEN_list.append(atten_spec)\n",
    "        RAIN_list.append(rr_list[i])\n",
    "        TIME_list.append(dt_list[i])\n",
    "\n",
    "    return DBZ_list, ZDR_list, KDP_list, ATTEN_list, TIME_list, RAIN_list"
   ]
  },
  {
   "cell_type": "code",
   "execution_count": 11,
   "metadata": {},
   "outputs": [],
   "source": [
    "band = 'C'\n",
    "cant = 10 #wdith of canting angle distribution\n",
    "temperature = 0 #used for refractive calculations\n",
    "\n",
    "# Main T-matrix parameters initialisation\n",
    "# Radar band in mm.\n",
    "if band == 'S':\n",
    "    radar_band = tmatrix_aux.wl_S\n",
    "elif band == 'C':\n",
    "    radar_band = tmatrix_aux.wl_C\n",
    "# Scatterer class from pytmatrix\n",
    "# tmatrix_aux.wl_C is the wavelength in mm\n",
    "# refractive.m_w_10C is a dictionnary containing the refractive index (at 10C) for different wavelength.\n",
    "if temperature == 0:\n",
    "    scatterer = Scatterer(wavelength=radar_band, m=refractive.m_w_0C[radar_band])\n",
    "elif temperature == 10:\n",
    "        scatterer = Scatterer(wavelength=radar_band, m=refractive.m_w_10C[radar_band])\n",
    "elif temperature == 20:\n",
    "        scatterer = Scatterer(wavelength=radar_band, m=refractive.m_w_20C[radar_band])\n",
    "scatterer.or_pdf = orientation.gaussian_pdf(cant)\n",
    "scatterer.orient = orientation.orient_averaged_fixed    \n",
    "\n",
    "# PSDIntegrator classfrom pytmatrix\n",
    "scatterer.psd_integrator = PSDIntegrator()    \n",
    "\n",
    "# Defining the axis ratio of drops.\n",
    "scatterer.psd_integrator.D_max = 8\n",
    "scatterer.psd_integrator.geometries = (tmatrix_aux.geom_horiz_back, tmatrix_aux.geom_horiz_forw)\n",
    "\n",
    "##### !!!!HERE!!!! ######\n",
    "scatterer.psd_integrator.axis_ratio_func = common.bzv_model\n",
    "##### !!!!HERE!!!! ######\n",
    "\n",
    "scatterer.psd_integrator.init_scatter_table(scatterer)"
   ]
  },
  {
   "cell_type": "code",
   "execution_count": 13,
   "metadata": {},
   "outputs": [
    {
     "name": "stdout",
     "output_type": "stream",
     "text": [
      "processing /g/data/kl02/jss548/PST/disdrometer/Broadmeadows/OTT1_2015.csv\n"
     ]
    },
    {
     "name": "stderr",
     "output_type": "stream",
     "text": [
      "100%|██████████| 514839/514839 [00:26<00:00, 19224.11it/s]\n"
     ]
    },
    {
     "name": "stdout",
     "output_type": "stream",
     "text": [
      "processing /g/data/kl02/jss548/PST/disdrometer/Broadmeadows/OTT1_2016.csv\n"
     ]
    },
    {
     "name": "stderr",
     "output_type": "stream",
     "text": [
      "100%|██████████| 517013/517013 [00:26<00:00, 19619.26it/s]\n"
     ]
    },
    {
     "name": "stdout",
     "output_type": "stream",
     "text": [
      "processing /g/data/kl02/jss548/PST/disdrometer/Broadmeadows/OTT1_2017.csv\n"
     ]
    },
    {
     "name": "stderr",
     "output_type": "stream",
     "text": [
      "100%|██████████| 178118/178118 [00:08<00:00, 19912.20it/s]\n",
      "100%|██████████| 178117/178117 [00:25<00:00, 6857.95it/s] \n"
     ]
    },
    {
     "name": "stdout",
     "output_type": "stream",
     "text": [
      "processing /g/data/kl02/jss548/PST/disdrometer/Broadmeadows/OTT1_2015.csv\n"
     ]
    },
    {
     "name": "stderr",
     "output_type": "stream",
     "text": [
      "100%|██████████| 514839/514839 [00:26<00:00, 19656.05it/s]\n"
     ]
    },
    {
     "name": "stdout",
     "output_type": "stream",
     "text": [
      "processing /g/data/kl02/jss548/PST/disdrometer/Broadmeadows/OTT1_2016.csv\n"
     ]
    },
    {
     "name": "stderr",
     "output_type": "stream",
     "text": [
      "100%|██████████| 517013/517013 [00:26<00:00, 19603.38it/s]\n"
     ]
    },
    {
     "name": "stdout",
     "output_type": "stream",
     "text": [
      "processing /g/data/kl02/jss548/PST/disdrometer/Broadmeadows/OTT1_2017.csv\n"
     ]
    },
    {
     "name": "stderr",
     "output_type": "stream",
     "text": [
      "100%|██████████| 178118/178118 [00:09<00:00, 19624.77it/s]\n",
      "100%|██████████| 178117/178117 [00:26<00:00, 6806.56it/s] \n"
     ]
    },
    {
     "name": "stdout",
     "output_type": "stream",
     "text": [
      "processing /g/data/kl02/jss548/PST/disdrometer/Broadmeadows/OTT1_2015.csv\n"
     ]
    },
    {
     "name": "stderr",
     "output_type": "stream",
     "text": [
      "100%|██████████| 514839/514839 [00:26<00:00, 19682.01it/s]\n"
     ]
    },
    {
     "name": "stdout",
     "output_type": "stream",
     "text": [
      "processing /g/data/kl02/jss548/PST/disdrometer/Broadmeadows/OTT1_2016.csv\n"
     ]
    },
    {
     "name": "stderr",
     "output_type": "stream",
     "text": [
      "100%|██████████| 517013/517013 [00:26<00:00, 19573.42it/s]\n"
     ]
    },
    {
     "name": "stdout",
     "output_type": "stream",
     "text": [
      "processing /g/data/kl02/jss548/PST/disdrometer/Broadmeadows/OTT1_2017.csv\n"
     ]
    },
    {
     "name": "stderr",
     "output_type": "stream",
     "text": [
      "100%|██████████| 178118/178118 [00:09<00:00, 19609.77it/s]\n",
      "100%|██████████| 178117/178117 [00:25<00:00, 6902.15it/s] \n",
      "<ipython-input-13-4fe3834ba70d>:26: RuntimeWarning: invalid value encountered in log10\n",
      "  zdr_db_array = 10*np.log10(zdr_array)\n"
     ]
    }
   ],
   "source": [
    "#init lists\n",
    "DBZ_total = []\n",
    "ZDR_total = []\n",
    "KDP_total = []\n",
    "ATTEN_total = []\n",
    "TIME_total = []\n",
    "RAIN_total = []\n",
    "\n",
    "for infile in file_list:\n",
    "    #load file and run pytmatrix\n",
    "    DBZ_out, ZDR_out, KDP_out, ATTEN_out, TIME_out, RAIN_out = broadmeadows_disdro_to_radar_moments(infile)\n",
    "    DBZ_total.extend(DBZ_out)\n",
    "    ZDR_total.extend(ZDR_out)\n",
    "    KDP_total.extend(KDP_out)\n",
    "    ATTEN_total.extend(ATTEN_out)\n",
    "    TIME_total.extend(TIME_out)\n",
    "    RAIN_total.extend(RAIN_out)\n",
    "    \n",
    "dbz_array = np.array(DBZ_total)\n",
    "zdr_array = np.array(ZDR_total)\n",
    "kdp_array = np.array(KDP_total)\n",
    "att_array = np.array(ATTEN_total)\n",
    "time_array = np.array(TIME_total)\n",
    "rain_array = np.array(RAIN_total)\n",
    "\n",
    "zdr_db_array = 10*np.log10(zdr_array)"
   ]
  },
  {
   "cell_type": "code",
   "execution_count": 14,
   "metadata": {},
   "outputs": [
    {
     "name": "stderr",
     "output_type": "stream",
     "text": [
      "<ipython-input-14-30252da145b1>:3: RuntimeWarning: invalid value encountered in less\n",
      "  dbz_mask2 = np.logical_or(dbz_array<-25, dbz_array>65)\n",
      "<ipython-input-14-30252da145b1>:3: RuntimeWarning: invalid value encountered in greater\n",
      "  dbz_mask2 = np.logical_or(dbz_array<-25, dbz_array>65)\n"
     ]
    }
   ],
   "source": [
    "#convert zdr to log space\n",
    "dbz_mask1 = np.logical_or(np.isinf(dbz_array), np.isnan(dbz_array))\n",
    "dbz_mask2 = np.logical_or(dbz_array<-25, dbz_array>65)\n",
    "dbz_mask = np.logical_or(dbz_mask1, dbz_mask2)\n",
    "\n",
    "#apply filters\n",
    "dbz_array_filt = dbz_array[~dbz_mask]\n",
    "rain_array_filt = rain_array[~dbz_mask]\n",
    "zdr_array_filt = zdr_array[~dbz_mask]\n",
    "kdp_array_filt = kdp_array[~dbz_mask]\n",
    "att_array_filt = att_array[~dbz_mask]\n",
    "time_array_filt = time_array[~dbz_mask]\n",
    "\n",
    "#convert zdr into log space\n",
    "zdr_db_array_filt = 10*np.log10(zdr_array_filt)"
   ]
  },
  {
   "cell_type": "code",
   "execution_count": 15,
   "metadata": {},
   "outputs": [],
   "source": [
    "np.savez(f'pytmatrix_out/broadmeadows_radarsim_{band}_{cant}deg_{temperature}C.npz', dbz_array=dbz_array_filt, rain_array=rain_array_filt, zdr_db_array=zdr_db_array_filt, kdp_array=kdp_array_filt, att_array=att_array_filt, time_array = time_array_filt)"
   ]
  },
  {
   "cell_type": "code",
   "execution_count": null,
   "metadata": {},
   "outputs": [],
   "source": []
  }
 ],
 "metadata": {
  "kernelspec": {
   "display_name": "Python 3",
   "language": "python",
   "name": "python3"
  },
  "language_info": {
   "codemirror_mode": {
    "name": "ipython",
    "version": 3
   },
   "file_extension": ".py",
   "mimetype": "text/x-python",
   "name": "python",
   "nbconvert_exporter": "python",
   "pygments_lexer": "ipython3",
   "version": "3.8.2"
  }
 },
 "nbformat": 4,
 "nbformat_minor": 4
}
