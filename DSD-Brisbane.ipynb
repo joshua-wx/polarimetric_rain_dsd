{
 "cells": [
  {
   "cell_type": "code",
   "execution_count": 9,
   "metadata": {},
   "outputs": [],
   "source": [
    "import os\n",
    "from glob import glob\n",
    "from datetime import datetime\n",
    "\n",
    "from scipy import interpolate\n",
    "from pytmatrix import orientation, radar, tmatrix_aux, refractive\n",
    "from pytmatrix.psd import PSDIntegrator, GammaPSD\n",
    "from pytmatrix.tmatrix import TMatrix, Scatterer\n",
    "from pytmatrix.tmatrix_psd import TMatrixPSD, GammaPSD\n",
    "\n",
    "import numpy as np\n",
    "import pandas as pd\n",
    "import matplotlib.pyplot as pl\n",
    "from sklearn.linear_model import LinearRegression\n",
    "from scipy.optimize import curve_fit\n",
    "\n",
    "import common"
   ]
  },
  {
   "cell_type": "code",
   "execution_count": 10,
   "metadata": {},
   "outputs": [],
   "source": [
    "file_list = sorted(glob('/g/data/kl02/jss548/PST/disdrometer/Brisbane/*.txt'))"
   ]
  },
  {
   "cell_type": "code",
   "execution_count": 11,
   "metadata": {},
   "outputs": [],
   "source": [
    "def brisbane_disdro_to_radar_moments(infile):\n",
    "    \n",
    "    DBZ_list = []\n",
    "    ZDR_list = []\n",
    "    KDP_list = []\n",
    "    ATTEN_list = []\n",
    "    TIME_list = []\n",
    "    RAIN_list = []\n",
    "\n",
    "    #parse text files\n",
    "    data_line_len = 50\n",
    "    dsd_dictlist = []\n",
    "    print('processing', infile)\n",
    "    with open(infile) as f:\n",
    "        #init\n",
    "        bin_name_list = []\n",
    "        bin_value_list = []\n",
    "        bin_mean_drop = []\n",
    "        #parse date from filename\n",
    "        fn = os.path.basename(txt_ffn)\n",
    "        year = '20' + fn[1:3]\n",
    "        doy = fn[3:6]\n",
    "        #parse each line\n",
    "        for line in f:\n",
    "            #skip empty lines\n",
    "            if len(line) == 1:\n",
    "                continue\n",
    "            elif len(line) < data_line_len:\n",
    "                #parse rainfall\n",
    "                rainfall = float(line)\n",
    "                dsd_dict = {'dt_start':line_dt_start, 'dt_end':line_dt_end, 'rainfall':rainfall,\n",
    "                            'bin_mean_drop':bin_mean_drop, 'bin_name_list':bin_name_list, 'bin_value_list':bin_value_list}\n",
    "                dsd_dictlist.append(dsd_dict)\n",
    "                #init\n",
    "                bin_name_list = []\n",
    "                bin_value_list = []\n",
    "                bin_mean_drop = []\n",
    "            else:\n",
    "                #parse line\n",
    "                line_list = line.split()\n",
    "                #parse date\n",
    "                line_dt_start = datetime.strptime(year + '-' + doy + ' ' + ':'.join(line_list[0:3]),'%Y-%j %H:%M:%S')\n",
    "                line_dt_end = datetime.strptime(year + '-' + doy + ' ' + ':'.join(line_list[3:6]),'%Y-%j %H:%M:%S')\n",
    "                #parse bin\n",
    "                bin_mean_drop.append((float(line_list[6])+float(line_list[7]))/2)\n",
    "                bin_name_list.append('-'.join(line_list[6:8]) + 'mm')\n",
    "                bin_value_list.append(float(line_list[8]))\n",
    "                \n",
    "    #scattering calcs\n",
    "    for item in dsd_dictlist:\n",
    "        nd = np.array(item['bin_value_list'])\n",
    "        mean_diam_drop_class = np.array(item['bin_mean_drop'])  \n",
    "\n",
    "        if np.sum(nd) == 0:\n",
    "            continue\n",
    "\n",
    "        #calc radar moments\n",
    "        dbz, zdr, kdp, atten_spec = common.scatter_off_2dvd_packed(mean_diam_drop_class, nd, scatterer)\n",
    "        DBZ_list.append(dbz)\n",
    "        ZDR_list.append(zdr)\n",
    "        KDP_list.append(kdp)\n",
    "        ATTEN_list.append(atten_spec)\n",
    "        TIME_list.append(item['dt_start'])\n",
    "        RAIN_list.append(item['rainfall'])\n",
    "        \n",
    "    return DBZ_list, ZDR_list, KDP_list, ATTEN_list, TIME_list, RAIN_list"
   ]
  },
  {
   "cell_type": "code",
   "execution_count": 12,
   "metadata": {},
   "outputs": [],
   "source": [
    "# for cant in range(1, 31):\n",
    "# print(cant)\n",
    "band = 'C'\n",
    "cant = 10 #wdith of canting angle distribution\n",
    "temperature = 0 #used for refractive calculations\n",
    "# Main T-matrix parameters initialisation\n",
    "# Radar band in mm.\n",
    "if band == 'S':\n",
    "    radar_band = tmatrix_aux.wl_S\n",
    "elif band == 'C':\n",
    "    radar_band = tmatrix_aux.wl_C\n",
    "# Scatterer class from pytmatrix\n",
    "# tmatrix_aux.wl_C is the wavelength in mm\n",
    "# refractive.m_w_10C is a dictionnary containing the refractive index (at 10C) for different wavelength.\n",
    "if temperature == 0:\n",
    "    scatterer = Scatterer(wavelength=radar_band, m=refractive.m_w_0C[radar_band])\n",
    "elif temperature == 10:\n",
    "        scatterer = Scatterer(wavelength=radar_band, m=refractive.m_w_10C[radar_band])\n",
    "elif temperature == 20:\n",
    "        scatterer = Scatterer(wavelength=radar_band, m=refractive.m_w_20C[radar_band])\n",
    "        \n",
    "scatterer.or_pdf = orientation.gaussian_pdf(cant)\n",
    "scatterer.orient = orientation.orient_averaged_fixed    \n",
    "\n",
    "# PSDIntegrator classfrom pytmatrix\n",
    "scatterer.psd_integrator = PSDIntegrator()    \n",
    "\n",
    "# Defining the axis ratio of drops.\n",
    "scatterer.psd_integrator.D_max = 8\n",
    "scatterer.psd_integrator.geometries = (tmatrix_aux.geom_horiz_back, tmatrix_aux.geom_horiz_forw)\n",
    "\n",
    "##### !!!!HERE!!!! ######\n",
    "scatterer.psd_integrator.axis_ratio_func = common.bzv_model\n",
    "##### !!!!HERE!!!! ######\n",
    "\n",
    "scatterer.psd_integrator.init_scatter_table(scatterer)"
   ]
  },
  {
   "cell_type": "code",
   "execution_count": 13,
   "metadata": {},
   "outputs": [
    {
     "name": "stdout",
     "output_type": "stream",
     "text": [
      "processing /g/data/kl02/jss548/PST/disdrometer/Brisbane/V08325_1.txt\n",
      "processing /g/data/kl02/jss548/PST/disdrometer/Brisbane/V08330_1.txt\n",
      "processing /g/data/kl02/jss548/PST/disdrometer/Brisbane/V08339_1.txt\n",
      "processing /g/data/kl02/jss548/PST/disdrometer/Brisbane/V08340_1.txt\n",
      "processing /g/data/kl02/jss548/PST/disdrometer/Brisbane/V08344_1.txt\n",
      "processing /g/data/kl02/jss548/PST/disdrometer/Brisbane/V08346_1.txt\n",
      "processing /g/data/kl02/jss548/PST/disdrometer/Brisbane/V09022_1.txt\n",
      "processing /g/data/kl02/jss548/PST/disdrometer/Brisbane/V09026_1.txt\n",
      "processing /g/data/kl02/jss548/PST/disdrometer/Brisbane/V09029_1.txt\n",
      "processing /g/data/kl02/jss548/PST/disdrometer/Brisbane/V09032_1.txt\n",
      "processing /g/data/kl02/jss548/PST/disdrometer/Brisbane/V09033_1.txt\n"
     ]
    }
   ],
   "source": [
    "#init lists\n",
    "DBZ_total = []\n",
    "ZDR_total = []\n",
    "KDP_total = []\n",
    "ATTEN_total = []\n",
    "TIME_total = []\n",
    "RAIN_total = []\n",
    "\n",
    "for infile in file_list:\n",
    "    #load file and run pytmatrix\n",
    "    DBZ_out, ZDR_out, KDP_out, ATTEN_out, TIME_out, RAIN_out = brisbane_disdro_to_radar_moments(infile)\n",
    "    DBZ_total.extend(DBZ_out)\n",
    "    ZDR_total.extend(ZDR_out)\n",
    "    KDP_total.extend(KDP_out)\n",
    "    ATTEN_total.extend(ATTEN_out)\n",
    "    TIME_total.extend(TIME_out)\n",
    "    RAIN_total.extend(RAIN_out)\n",
    "    \n",
    "dbz_array = np.array(DBZ_total)\n",
    "zdr_array = np.array(ZDR_total)\n",
    "kdp_array = np.array(KDP_total)\n",
    "att_array = np.array(ATTEN_total)\n",
    "time_array = np.array(TIME_total)\n",
    "rain_array = np.array(RAIN_total)\n",
    "\n",
    "zdr_db_array = 10*np.log10(zdr_array)"
   ]
  },
  {
   "cell_type": "code",
   "execution_count": 14,
   "metadata": {},
   "outputs": [],
   "source": [
    "np.savez(f'pytmatrix_out/brisbane_radarsim_{band}_{cant}deg_{temperature}C.npz', rain_array=rain_array, dbz_array=dbz_array, zdr_db_array=zdr_db_array, kdp_array=kdp_array, att_array=att_array, time_array = time_array)"
   ]
  },
  {
   "cell_type": "code",
   "execution_count": 8,
   "metadata": {},
   "outputs": [
    {
     "name": "stdout",
     "output_type": "stream",
     "text": [
      "[1, 2, 3, 4, 5, 6]\n"
     ]
    }
   ],
   "source": [
    "a = [1,2,3]\n",
    "b = [4,5,6]\n",
    "\n",
    "a.extend(b)\n",
    "\n",
    "print(a)"
   ]
  },
  {
   "cell_type": "code",
   "execution_count": null,
   "metadata": {},
   "outputs": [],
   "source": []
  }
 ],
 "metadata": {
  "kernelspec": {
   "display_name": "Python 3",
   "language": "python",
   "name": "python3"
  },
  "language_info": {
   "codemirror_mode": {
    "name": "ipython",
    "version": 3
   },
   "file_extension": ".py",
   "mimetype": "text/x-python",
   "name": "python",
   "nbconvert_exporter": "python",
   "pygments_lexer": "ipython3",
   "version": "3.8.3"
  }
 },
 "nbformat": 4,
 "nbformat_minor": 4
}
